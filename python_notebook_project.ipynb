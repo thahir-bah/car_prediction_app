{
 "cells": [
  {
   "cell_type": "markdown",
   "id": "48a20e9a",
   "metadata": {},
   "source": [
    "# Catalogue Analysis"
   ]
  },
  {
   "cell_type": "markdown",
   "id": "824805a3",
   "metadata": {},
   "source": [
    "## Import Catalogue dataset"
   ]
  },
  {
   "cell_type": "code",
   "execution_count": 1,
   "id": "2c373ec0",
   "metadata": {},
   "outputs": [],
   "source": [
    "import os\n",
    "import warnings\n",
    "warnings.filterwarnings(\"ignore\")"
   ]
  },
  {
   "cell_type": "code",
   "execution_count": 2,
   "id": "8774023d",
   "metadata": {},
   "outputs": [
    {
     "data": {
      "text/plain": [
       "['.ipynb_checkpoints',\n",
       " 'Catalogue.csv',\n",
       " 'Catalogue_clustered.csv',\n",
       " 'Clients.csv',\n",
       " 'Client_preprossessed.csv',\n",
       " 'Immatriculations.csv',\n",
       " 'Marketing.csv',\n",
       " 'Sujet.pdf']"
      ]
     },
     "execution_count": 2,
     "metadata": {},
     "output_type": "execute_result"
    }
   ],
   "source": [
    "os.listdir('projet_data_mining')"
   ]
  },
  {
   "cell_type": "code",
   "execution_count": 3,
   "id": "8628e1b7",
   "metadata": {},
   "outputs": [],
   "source": [
    "import pandas as pd"
   ]
  },
  {
   "cell_type": "code",
   "execution_count": 4,
   "id": "bbd7df35",
   "metadata": {},
   "outputs": [],
   "source": [
    "catalogue_df = pd.read_csv('projet_data_mining/Catalogue.csv', encoding='latin1')"
   ]
  },
  {
   "cell_type": "code",
   "execution_count": 5,
   "id": "b33f5c70",
   "metadata": {},
   "outputs": [
    {
     "data": {
      "text/html": [
       "<div>\n",
       "<style scoped>\n",
       "    .dataframe tbody tr th:only-of-type {\n",
       "        vertical-align: middle;\n",
       "    }\n",
       "\n",
       "    .dataframe tbody tr th {\n",
       "        vertical-align: top;\n",
       "    }\n",
       "\n",
       "    .dataframe thead th {\n",
       "        text-align: right;\n",
       "    }\n",
       "</style>\n",
       "<table border=\"1\" class=\"dataframe\">\n",
       "  <thead>\n",
       "    <tr style=\"text-align: right;\">\n",
       "      <th></th>\n",
       "      <th>marque</th>\n",
       "      <th>nom</th>\n",
       "      <th>puissance</th>\n",
       "      <th>longueur</th>\n",
       "      <th>nbPlaces</th>\n",
       "      <th>nbPortes</th>\n",
       "      <th>couleur</th>\n",
       "      <th>occasion</th>\n",
       "      <th>prix</th>\n",
       "    </tr>\n",
       "  </thead>\n",
       "  <tbody>\n",
       "    <tr>\n",
       "      <th>0</th>\n",
       "      <td>Volvo</td>\n",
       "      <td>S80 T6</td>\n",
       "      <td>272</td>\n",
       "      <td>très longue</td>\n",
       "      <td>5</td>\n",
       "      <td>5</td>\n",
       "      <td>blanc</td>\n",
       "      <td>False</td>\n",
       "      <td>50500</td>\n",
       "    </tr>\n",
       "    <tr>\n",
       "      <th>1</th>\n",
       "      <td>Volvo</td>\n",
       "      <td>S80 T6</td>\n",
       "      <td>272</td>\n",
       "      <td>très longue</td>\n",
       "      <td>5</td>\n",
       "      <td>5</td>\n",
       "      <td>noir</td>\n",
       "      <td>False</td>\n",
       "      <td>50500</td>\n",
       "    </tr>\n",
       "    <tr>\n",
       "      <th>2</th>\n",
       "      <td>Volvo</td>\n",
       "      <td>S80 T6</td>\n",
       "      <td>272</td>\n",
       "      <td>très longue</td>\n",
       "      <td>5</td>\n",
       "      <td>5</td>\n",
       "      <td>rouge</td>\n",
       "      <td>False</td>\n",
       "      <td>50500</td>\n",
       "    </tr>\n",
       "    <tr>\n",
       "      <th>3</th>\n",
       "      <td>Volvo</td>\n",
       "      <td>S80 T6</td>\n",
       "      <td>272</td>\n",
       "      <td>très longue</td>\n",
       "      <td>5</td>\n",
       "      <td>5</td>\n",
       "      <td>gris</td>\n",
       "      <td>True</td>\n",
       "      <td>35350</td>\n",
       "    </tr>\n",
       "    <tr>\n",
       "      <th>4</th>\n",
       "      <td>Volvo</td>\n",
       "      <td>S80 T6</td>\n",
       "      <td>272</td>\n",
       "      <td>très longue</td>\n",
       "      <td>5</td>\n",
       "      <td>5</td>\n",
       "      <td>bleu</td>\n",
       "      <td>True</td>\n",
       "      <td>35350</td>\n",
       "    </tr>\n",
       "    <tr>\n",
       "      <th>...</th>\n",
       "      <td>...</td>\n",
       "      <td>...</td>\n",
       "      <td>...</td>\n",
       "      <td>...</td>\n",
       "      <td>...</td>\n",
       "      <td>...</td>\n",
       "      <td>...</td>\n",
       "      <td>...</td>\n",
       "      <td>...</td>\n",
       "    </tr>\n",
       "    <tr>\n",
       "      <th>265</th>\n",
       "      <td>Audi</td>\n",
       "      <td>A2 1.4</td>\n",
       "      <td>75</td>\n",
       "      <td>courte</td>\n",
       "      <td>5</td>\n",
       "      <td>5</td>\n",
       "      <td>noir</td>\n",
       "      <td>False</td>\n",
       "      <td>18310</td>\n",
       "    </tr>\n",
       "    <tr>\n",
       "      <th>266</th>\n",
       "      <td>Audi</td>\n",
       "      <td>A2 1.4</td>\n",
       "      <td>75</td>\n",
       "      <td>courte</td>\n",
       "      <td>5</td>\n",
       "      <td>5</td>\n",
       "      <td>rouge</td>\n",
       "      <td>False</td>\n",
       "      <td>18310</td>\n",
       "    </tr>\n",
       "    <tr>\n",
       "      <th>267</th>\n",
       "      <td>Audi</td>\n",
       "      <td>A2 1.4</td>\n",
       "      <td>75</td>\n",
       "      <td>courte</td>\n",
       "      <td>5</td>\n",
       "      <td>5</td>\n",
       "      <td>blanc</td>\n",
       "      <td>True</td>\n",
       "      <td>12817</td>\n",
       "    </tr>\n",
       "    <tr>\n",
       "      <th>268</th>\n",
       "      <td>Audi</td>\n",
       "      <td>A2 1.4</td>\n",
       "      <td>75</td>\n",
       "      <td>courte</td>\n",
       "      <td>5</td>\n",
       "      <td>5</td>\n",
       "      <td>rouge</td>\n",
       "      <td>True</td>\n",
       "      <td>12817</td>\n",
       "    </tr>\n",
       "    <tr>\n",
       "      <th>269</th>\n",
       "      <td>Audi</td>\n",
       "      <td>A2 1.4</td>\n",
       "      <td>75</td>\n",
       "      <td>courte</td>\n",
       "      <td>5</td>\n",
       "      <td>5</td>\n",
       "      <td>blanc</td>\n",
       "      <td>False</td>\n",
       "      <td>18310</td>\n",
       "    </tr>\n",
       "  </tbody>\n",
       "</table>\n",
       "<p>270 rows × 9 columns</p>\n",
       "</div>"
      ],
      "text/plain": [
       "    marque     nom  puissance     longueur  nbPlaces  nbPortes couleur  \\\n",
       "0    Volvo  S80 T6        272  très longue         5         5   blanc   \n",
       "1    Volvo  S80 T6        272  très longue         5         5    noir   \n",
       "2    Volvo  S80 T6        272  très longue         5         5   rouge   \n",
       "3    Volvo  S80 T6        272  très longue         5         5    gris   \n",
       "4    Volvo  S80 T6        272  très longue         5         5    bleu   \n",
       "..     ...     ...        ...          ...       ...       ...     ...   \n",
       "265   Audi  A2 1.4         75       courte         5         5    noir   \n",
       "266   Audi  A2 1.4         75       courte         5         5   rouge   \n",
       "267   Audi  A2 1.4         75       courte         5         5   blanc   \n",
       "268   Audi  A2 1.4         75       courte         5         5   rouge   \n",
       "269   Audi  A2 1.4         75       courte         5         5   blanc   \n",
       "\n",
       "     occasion   prix  \n",
       "0       False  50500  \n",
       "1       False  50500  \n",
       "2       False  50500  \n",
       "3        True  35350  \n",
       "4        True  35350  \n",
       "..        ...    ...  \n",
       "265     False  18310  \n",
       "266     False  18310  \n",
       "267      True  12817  \n",
       "268      True  12817  \n",
       "269     False  18310  \n",
       "\n",
       "[270 rows x 9 columns]"
      ]
     },
     "execution_count": 5,
     "metadata": {},
     "output_type": "execute_result"
    }
   ],
   "source": [
    "catalogue_df"
   ]
  },
  {
   "cell_type": "markdown",
   "id": "bfc9222e",
   "metadata": {},
   "source": [
    "## Catalogue Preprocessing"
   ]
  },
  {
   "cell_type": "markdown",
   "id": "dc4e2b42",
   "metadata": {},
   "source": [
    "Checking for the type of columns values"
   ]
  },
  {
   "cell_type": "code",
   "execution_count": 6,
   "id": "f3a333ae",
   "metadata": {},
   "outputs": [
    {
     "name": "stdout",
     "output_type": "stream",
     "text": [
      "<class 'pandas.core.frame.DataFrame'>\n",
      "RangeIndex: 270 entries, 0 to 269\n",
      "Data columns (total 9 columns):\n",
      " #   Column     Non-Null Count  Dtype \n",
      "---  ------     --------------  ----- \n",
      " 0   marque     270 non-null    object\n",
      " 1   nom        270 non-null    object\n",
      " 2   puissance  270 non-null    int64 \n",
      " 3   longueur   270 non-null    object\n",
      " 4   nbPlaces   270 non-null    int64 \n",
      " 5   nbPortes   270 non-null    int64 \n",
      " 6   couleur    270 non-null    object\n",
      " 7   occasion   270 non-null    bool  \n",
      " 8   prix       270 non-null    int64 \n",
      "dtypes: bool(1), int64(4), object(4)\n",
      "memory usage: 17.3+ KB\n"
     ]
    }
   ],
   "source": [
    "catalogue_df.info()"
   ]
  },
  {
   "cell_type": "markdown",
   "id": "6ab79314",
   "metadata": {},
   "source": [
    "It's appear that these is no column that contains empty values, since the non-null column count for every column it's equal to 270."
   ]
  },
  {
   "cell_type": "markdown",
   "id": "a560c897",
   "metadata": {},
   "source": [
    "Let's check if missing_values exists"
   ]
  },
  {
   "cell_type": "code",
   "execution_count": 7,
   "id": "49501d9f",
   "metadata": {},
   "outputs": [
    {
     "name": "stdout",
     "output_type": "stream",
     "text": [
      "Column 'marque':\n",
      "  Value '?': 0 occurrences\n",
      "  Value 'N/D': 0 occurrences\n",
      "  Value ' ': 0 occurrences\n",
      "Column 'nom':\n",
      "  Value '?': 0 occurrences\n",
      "  Value 'N/D': 0 occurrences\n",
      "  Value ' ': 0 occurrences\n",
      "Column 'puissance':\n",
      "  Value '?': 0 occurrences\n",
      "  Value 'N/D': 0 occurrences\n",
      "  Value ' ': 0 occurrences\n",
      "Column 'longueur':\n",
      "  Value '?': 0 occurrences\n",
      "  Value 'N/D': 0 occurrences\n",
      "  Value ' ': 0 occurrences\n",
      "Column 'nbPlaces':\n",
      "  Value '?': 0 occurrences\n",
      "  Value 'N/D': 0 occurrences\n",
      "  Value ' ': 0 occurrences\n",
      "Column 'nbPortes':\n",
      "  Value '?': 0 occurrences\n",
      "  Value 'N/D': 0 occurrences\n",
      "  Value ' ': 0 occurrences\n",
      "Column 'couleur':\n",
      "  Value '?': 0 occurrences\n",
      "  Value 'N/D': 0 occurrences\n",
      "  Value ' ': 0 occurrences\n",
      "Column 'occasion':\n",
      "  Value '?': 0 occurrences\n",
      "  Value 'N/D': 0 occurrences\n",
      "  Value ' ': 0 occurrences\n",
      "Column 'prix':\n",
      "  Value '?': 0 occurrences\n",
      "  Value 'N/D': 0 occurrences\n",
      "  Value ' ': 0 occurrences\n"
     ]
    }
   ],
   "source": [
    "missing_values = ['?', 'N/D', ' ']\n",
    "\n",
    "for column in catalogue_df.columns:\n",
    "    value_counts = catalogue_df[column].isin(missing_values).sum()\n",
    "    print(f\"Column '{column}':\")\n",
    "    for value in missing_values:\n",
    "        count = (catalogue_df[column] == value).sum()\n",
    "        print(f\"  Value '{value}': {count} occurrences\")"
   ]
  },
  {
   "cell_type": "markdown",
   "id": "dd805532",
   "metadata": {},
   "source": [
    "Delete colour column because there are no others differences between the same car with different colour"
   ]
  },
  {
   "cell_type": "code",
   "execution_count": 8,
   "id": "8011e910",
   "metadata": {},
   "outputs": [],
   "source": [
    "catalogue_df_dropped_colour = catalogue_df.drop(['couleur'], axis=1)"
   ]
  },
  {
   "cell_type": "markdown",
   "id": "4d5e2ae7",
   "metadata": {},
   "source": [
    "Delete duplicate rows"
   ]
  },
  {
   "cell_type": "code",
   "execution_count": 9,
   "id": "f5206f66",
   "metadata": {},
   "outputs": [],
   "source": [
    "catalogue_drop_duplicates = catalogue_df_dropped_colour.drop_duplicates(subset=['nom','occasion'])"
   ]
  },
  {
   "cell_type": "markdown",
   "id": "3ad030fb",
   "metadata": {},
   "source": [
    "Dropping columns after reading the project specifications"
   ]
  },
  {
   "cell_type": "code",
   "execution_count": 10,
   "id": "890f6d17",
   "metadata": {},
   "outputs": [],
   "source": [
    "catalogue_df_dropped = catalogue_drop_duplicates.drop(['marque', 'nom', 'occasion'], axis=1)"
   ]
  },
  {
   "cell_type": "code",
   "execution_count": 11,
   "id": "11275bcc",
   "metadata": {},
   "outputs": [
    {
     "data": {
      "text/html": [
       "<div>\n",
       "<style scoped>\n",
       "    .dataframe tbody tr th:only-of-type {\n",
       "        vertical-align: middle;\n",
       "    }\n",
       "\n",
       "    .dataframe tbody tr th {\n",
       "        vertical-align: top;\n",
       "    }\n",
       "\n",
       "    .dataframe thead th {\n",
       "        text-align: right;\n",
       "    }\n",
       "</style>\n",
       "<table border=\"1\" class=\"dataframe\">\n",
       "  <thead>\n",
       "    <tr style=\"text-align: right;\">\n",
       "      <th></th>\n",
       "      <th>puissance</th>\n",
       "      <th>longueur</th>\n",
       "      <th>nbPlaces</th>\n",
       "      <th>nbPortes</th>\n",
       "      <th>prix</th>\n",
       "    </tr>\n",
       "  </thead>\n",
       "  <tbody>\n",
       "    <tr>\n",
       "      <th>0</th>\n",
       "      <td>272</td>\n",
       "      <td>très longue</td>\n",
       "      <td>5</td>\n",
       "      <td>5</td>\n",
       "      <td>50500</td>\n",
       "    </tr>\n",
       "    <tr>\n",
       "      <th>3</th>\n",
       "      <td>272</td>\n",
       "      <td>très longue</td>\n",
       "      <td>5</td>\n",
       "      <td>5</td>\n",
       "      <td>35350</td>\n",
       "    </tr>\n",
       "    <tr>\n",
       "      <th>10</th>\n",
       "      <td>150</td>\n",
       "      <td>longue</td>\n",
       "      <td>7</td>\n",
       "      <td>5</td>\n",
       "      <td>27340</td>\n",
       "    </tr>\n",
       "    <tr>\n",
       "      <th>11</th>\n",
       "      <td>150</td>\n",
       "      <td>longue</td>\n",
       "      <td>7</td>\n",
       "      <td>5</td>\n",
       "      <td>19138</td>\n",
       "    </tr>\n",
       "    <tr>\n",
       "      <th>20</th>\n",
       "      <td>55</td>\n",
       "      <td>courte</td>\n",
       "      <td>5</td>\n",
       "      <td>3</td>\n",
       "      <td>8540</td>\n",
       "    </tr>\n",
       "  </tbody>\n",
       "</table>\n",
       "</div>"
      ],
      "text/plain": [
       "    puissance     longueur  nbPlaces  nbPortes   prix\n",
       "0         272  très longue         5         5  50500\n",
       "3         272  très longue         5         5  35350\n",
       "10        150       longue         7         5  27340\n",
       "11        150       longue         7         5  19138\n",
       "20         55       courte         5         3   8540"
      ]
     },
     "execution_count": 11,
     "metadata": {},
     "output_type": "execute_result"
    }
   ],
   "source": [
    "catalogue_df_dropped.head()"
   ]
  },
  {
   "cell_type": "markdown",
   "id": "8f556ce4",
   "metadata": {},
   "source": [
    "Numerize longueur column values"
   ]
  },
  {
   "cell_type": "code",
   "execution_count": 12,
   "id": "f529fa6b",
   "metadata": {},
   "outputs": [],
   "source": [
    "def transform (x):\n",
    "    L = ['courte','moyenne','longue','très longue']\n",
    "    return L.index(x)+1\n",
    "\n",
    "catalogue_df_dropped[\"longueur\"] = catalogue_df_dropped[\"longueur\"].apply(transform)"
   ]
  },
  {
   "cell_type": "markdown",
   "id": "d2887c38",
   "metadata": {},
   "source": [
    "Normalize attributes with z-score"
   ]
  },
  {
   "cell_type": "code",
   "execution_count": 13,
   "id": "5e1dc88b",
   "metadata": {},
   "outputs": [],
   "source": [
    "import numpy as np"
   ]
  },
  {
   "cell_type": "code",
   "execution_count": 14,
   "id": "e355005a",
   "metadata": {},
   "outputs": [],
   "source": [
    "def normalize (x) :\n",
    "    return (x-np.mean(x))/np.std(x)\n",
    "\n",
    "catalogue_df_norm = pd.DataFrame()\n",
    "catalogue_df_norm[\"puissance\"] = normalize (catalogue_df_dropped.puissance)\n",
    "catalogue_df_norm[\"nbPlaces\"]  = normalize (catalogue_df_dropped.nbPlaces)\n",
    "catalogue_df_norm[\"nbPortes\"]  = normalize (catalogue_df_dropped.nbPortes)\n",
    "catalogue_df_norm[\"longueur\"]  = normalize (catalogue_df_dropped.longueur)\n",
    "catalogue_df_norm[\"prix\"] = normalize (catalogue_df_dropped.prix)"
   ]
  },
  {
   "cell_type": "code",
   "execution_count": 15,
   "id": "7a274237",
   "metadata": {},
   "outputs": [
    {
     "data": {
      "text/html": [
       "<div>\n",
       "<style scoped>\n",
       "    .dataframe tbody tr th:only-of-type {\n",
       "        vertical-align: middle;\n",
       "    }\n",
       "\n",
       "    .dataframe tbody tr th {\n",
       "        vertical-align: top;\n",
       "    }\n",
       "\n",
       "    .dataframe thead th {\n",
       "        text-align: right;\n",
       "    }\n",
       "</style>\n",
       "<table border=\"1\" class=\"dataframe\">\n",
       "  <thead>\n",
       "    <tr style=\"text-align: right;\">\n",
       "      <th></th>\n",
       "      <th>puissance</th>\n",
       "      <th>nbPlaces</th>\n",
       "      <th>nbPortes</th>\n",
       "      <th>longueur</th>\n",
       "      <th>prix</th>\n",
       "    </tr>\n",
       "  </thead>\n",
       "  <tbody>\n",
       "    <tr>\n",
       "      <th>0</th>\n",
       "      <td>1.265800</td>\n",
       "      <td>-0.353553</td>\n",
       "      <td>0.319438</td>\n",
       "      <td>1.471814</td>\n",
       "      <td>1.253336</td>\n",
       "    </tr>\n",
       "    <tr>\n",
       "      <th>3</th>\n",
       "      <td>1.265800</td>\n",
       "      <td>-0.353553</td>\n",
       "      <td>0.319438</td>\n",
       "      <td>1.471814</td>\n",
       "      <td>0.456589</td>\n",
       "    </tr>\n",
       "    <tr>\n",
       "      <th>10</th>\n",
       "      <td>-0.084004</td>\n",
       "      <td>2.828427</td>\n",
       "      <td>0.319438</td>\n",
       "      <td>0.502571</td>\n",
       "      <td>0.035338</td>\n",
       "    </tr>\n",
       "    <tr>\n",
       "      <th>11</th>\n",
       "      <td>-0.084004</td>\n",
       "      <td>2.828427</td>\n",
       "      <td>0.319438</td>\n",
       "      <td>0.502571</td>\n",
       "      <td>-0.396010</td>\n",
       "    </tr>\n",
       "    <tr>\n",
       "      <th>20</th>\n",
       "      <td>-1.135082</td>\n",
       "      <td>-0.353553</td>\n",
       "      <td>-3.130495</td>\n",
       "      <td>-1.435916</td>\n",
       "      <td>-0.953365</td>\n",
       "    </tr>\n",
       "  </tbody>\n",
       "</table>\n",
       "</div>"
      ],
      "text/plain": [
       "    puissance  nbPlaces  nbPortes  longueur      prix\n",
       "0    1.265800 -0.353553  0.319438  1.471814  1.253336\n",
       "3    1.265800 -0.353553  0.319438  1.471814  0.456589\n",
       "10  -0.084004  2.828427  0.319438  0.502571  0.035338\n",
       "11  -0.084004  2.828427  0.319438  0.502571 -0.396010\n",
       "20  -1.135082 -0.353553 -3.130495 -1.435916 -0.953365"
      ]
     },
     "execution_count": 15,
     "metadata": {},
     "output_type": "execute_result"
    }
   ],
   "source": [
    "catalogue_df_norm.head()"
   ]
  },
  {
   "cell_type": "markdown",
   "id": "4b891ddf",
   "metadata": {},
   "source": [
    "## Clustering Using K-means"
   ]
  },
  {
   "cell_type": "markdown",
   "id": "37c20806",
   "metadata": {},
   "source": [
    "Identifying Optimum number of clusters"
   ]
  },
  {
   "cell_type": "markdown",
   "id": "09e5ce4b",
   "metadata": {},
   "source": [
    "**Using Elbow**"
   ]
  },
  {
   "cell_type": "code",
   "execution_count": 16,
   "id": "55481965",
   "metadata": {},
   "outputs": [],
   "source": [
    "from sklearn.cluster import KMeans\n",
    "import matplotlib.pyplot as plt"
   ]
  },
  {
   "cell_type": "code",
   "execution_count": 17,
   "id": "0e989cad",
   "metadata": {},
   "outputs": [],
   "source": [
    "def optimise_k_means(data, max_k):\n",
    "    means = []\n",
    "    inertias = []\n",
    "    \n",
    "    for k in range(1, max_k):\n",
    "        kmeans = KMeans(n_clusters=k)\n",
    "        kmeans.fit(data)\n",
    "        \n",
    "        means.append(k)\n",
    "        inertias.append(kmeans.inertia_)\n",
    "        \n",
    "    #Generate the elbow plot\n",
    "    fig = plt.subplots(figsize=(10, 5))\n",
    "    plt.plot(means, inertias, 'o-')\n",
    "    plt.xlabel('Number of clusters')\n",
    "    plt.ylabel('inertia')\n",
    "    plt.show();"
   ]
  },
  {
   "cell_type": "code",
   "execution_count": 18,
   "id": "397fcd3c",
   "metadata": {},
   "outputs": [
    {
     "data": {
      "image/png": "[encoded data removed]",
      "text/plain": [
       "<Figure size 1000x500 with 1 Axes>"
      ]
     },
     "metadata": {},
     "output_type": "display_data"
    }
   ],
   "source": [
    "optimise_k_means(catalogue_df_norm, 10)"
   ]
  },
  {
   "cell_type": "markdown",
   "id": "5777564d",
   "metadata": {},
   "source": [
    "The best number of clusters given with elbow method it's around 4 and 5"
   ]
  },
  {
   "cell_type": "markdown",
   "id": "921a23b0",
   "metadata": {},
   "source": [
    "**Using Silhouette Coefficient**"
   ]
  },
  {
   "cell_type": "code",
   "execution_count": 19,
   "id": "7f6bfc41",
   "metadata": {},
   "outputs": [],
   "source": [
    "from sklearn.metrics import silhouette_score"
   ]
  },
  {
   "cell_type": "code",
   "execution_count": 20,
   "id": "47a240de",
   "metadata": {},
   "outputs": [
    {
     "data": {
      "text/plain": [
       "[<matplotlib.lines.Line2D at 0x19b38ef0880>]"
      ]
     },
     "execution_count": 20,
     "metadata": {},
     "output_type": "execute_result"
    },
    {
     "data": {
      "image/png": "[encoded data removed]",
      "text/plain": [
       "<Figure size 640x480 with 1 Axes>"
      ]
     },
     "metadata": {},
     "output_type": "display_data"
    }
   ],
   "source": [
    "n_clusters = list (range (2, 10))\n",
    "silhouettes = []\n",
    "for k in n_clusters :\n",
    "    kmeans = KMeans(n_clusters=k, random_state=123, n_init=\"auto\")\n",
    "    kmeans.fit(catalogue_df_norm)\n",
    "    silhouettes.append (silhouette_score(catalogue_df_norm, kmeans.labels_))\n",
    "\n",
    "plt.plot(n_clusters, silhouettes)"
   ]
  },
  {
   "cell_type": "markdown",
   "id": "eebc1490",
   "metadata": {},
   "source": [
    "The best number of clusters give us with silhouette method it's 4 "
   ]
  },
  {
   "cell_type": "markdown",
   "id": "e9df95f9",
   "metadata": {},
   "source": [
    "In conclusion we will use 4 clusters for our training model"
   ]
  },
  {
   "cell_type": "code",
   "execution_count": 21,
   "id": "3f1c5229",
   "metadata": {},
   "outputs": [
    {
     "data": {
      "text/html": [
       "<style>#sk-container-id-1 {color: black;background-color: white;}#sk-container-id-1 pre{padding: 0;}#sk-container-id-1 div.sk-toggleable {background-color: white;}#sk-container-id-1 label.sk-toggleable__label {cursor: pointer;display: block;width: 100%;margin-bottom: 0;padding: 0.3em;box-sizing: border-box;text-align: center;}#sk-container-id-1 label.sk-toggleable__label-arrow:before {content: \"▸\";float: left;margin-right: 0.25em;color: #696969;}#sk-container-id-1 label.sk-toggleable__label-arrow:hover:before {color: black;}#sk-container-id-1 div.sk-estimator:hover label.sk-toggleable__label-arrow:before {color: black;}#sk-container-id-1 div.sk-toggleable__content {max-height: 0;max-width: 0;overflow: hidden;text-align: left;background-color: #f0f8ff;}#sk-container-id-1 div.sk-toggleable__content pre {margin: 0.2em;color: black;border-radius: 0.25em;background-color: #f0f8ff;}#sk-container-id-1 input.sk-toggleable__control:checked~div.sk-toggleable__content {max-height: 200px;max-width: 100%;overflow: auto;}#sk-container-id-1 input.sk-toggleable__control:checked~label.sk-toggleable__label-arrow:before {content: \"▾\";}#sk-container-id-1 div.sk-estimator input.sk-toggleable__control:checked~label.sk-toggleable__label {background-color: #d4ebff;}#sk-container-id-1 div.sk-label input.sk-toggleable__control:checked~label.sk-toggleable__label {background-color: #d4ebff;}#sk-container-id-1 input.sk-hidden--visually {border: 0;clip: rect(1px 1px 1px 1px);clip: rect(1px, 1px, 1px, 1px);height: 1px;margin: -1px;overflow: hidden;padding: 0;position: absolute;width: 1px;}#sk-container-id-1 div.sk-estimator {font-family: monospace;background-color: #f0f8ff;border: 1px dotted black;border-radius: 0.25em;box-sizing: border-box;margin-bottom: 0.5em;}#sk-container-id-1 div.sk-estimator:hover {background-color: #d4ebff;}#sk-container-id-1 div.sk-parallel-item::after {content: \"\";width: 100%;border-bottom: 1px solid gray;flex-grow: 1;}#sk-container-id-1 div.sk-label:hover label.sk-toggleable__label {background-color: #d4ebff;}#sk-container-id-1 div.sk-serial::before {content: \"\";position: absolute;border-left: 1px solid gray;box-sizing: border-box;top: 0;bottom: 0;left: 50%;z-index: 0;}#sk-container-id-1 div.sk-serial {display: flex;flex-direction: column;align-items: center;background-color: white;padding-right: 0.2em;padding-left: 0.2em;position: relative;}#sk-container-id-1 div.sk-item {position: relative;z-index: 1;}#sk-container-id-1 div.sk-parallel {display: flex;align-items: stretch;justify-content: center;background-color: white;position: relative;}#sk-container-id-1 div.sk-item::before, #sk-container-id-1 div.sk-parallel-item::before {content: \"\";position: absolute;border-left: 1px solid gray;box-sizing: border-box;top: 0;bottom: 0;left: 50%;z-index: -1;}#sk-container-id-1 div.sk-parallel-item {display: flex;flex-direction: column;z-index: 1;position: relative;background-color: white;}#sk-container-id-1 div.sk-parallel-item:first-child::after {align-self: flex-end;width: 50%;}#sk-container-id-1 div.sk-parallel-item:last-child::after {align-self: flex-start;width: 50%;}#sk-container-id-1 div.sk-parallel-item:only-child::after {width: 0;}#sk-container-id-1 div.sk-dashed-wrapped {border: 1px dashed gray;margin: 0 0.4em 0.5em 0.4em;box-sizing: border-box;padding-bottom: 0.4em;background-color: white;}#sk-container-id-1 div.sk-label label {font-family: monospace;font-weight: bold;display: inline-block;line-height: 1.2em;}#sk-container-id-1 div.sk-label-container {text-align: center;}#sk-container-id-1 div.sk-container {/* jupyter's `normalize.less` sets `[hidden] { display: none; }` but bootstrap.min.css set `[hidden] { display: none !important; }` so we also need the `!important` here to be able to override the default hidden behavior on the sphinx rendered scikit-learn.org. See: https://github.com/scikit-learn/scikit-learn/issues/21755 */display: inline-block !important;position: relative;}#sk-container-id-1 div.sk-text-repr-fallback {display: none;}</style><div id=\"sk-container-id-1\" class=\"sk-top-container\"><div class=\"sk-text-repr-fallback\"><pre>KMeans(n_clusters=4, n_init=&#x27;auto&#x27;, random_state=123)</pre><b>In a Jupyter environment, please rerun this cell to show the HTML representation or trust the notebook. <br />On GitHub, the HTML representation is unable to render, please try loading this page with nbviewer.org.</b></div><div class=\"sk-container\" hidden><div class=\"sk-item\"><div class=\"sk-estimator sk-toggleable\"><input class=\"sk-toggleable__control sk-hidden--visually\" id=\"sk-estimator-id-1\" type=\"checkbox\" checked><label for=\"sk-estimator-id-1\" class=\"sk-toggleable__label sk-toggleable__label-arrow\">KMeans</label><div class=\"sk-toggleable__content\"><pre>KMeans(n_clusters=4, n_init=&#x27;auto&#x27;, random_state=123)</pre></div></div></div></div></div>"
      ],
      "text/plain": [
       "KMeans(n_clusters=4, n_init='auto', random_state=123)"
      ]
     },
     "execution_count": 21,
     "metadata": {},
     "output_type": "execute_result"
    }
   ],
   "source": [
    "kmeans = KMeans(n_clusters=4, random_state=123, n_init=\"auto\")\n",
    "kmeans.fit(catalogue_df_norm)"
   ]
  },
  {
   "cell_type": "code",
   "execution_count": 23,
   "id": "c71c6aa5",
   "metadata": {},
   "outputs": [],
   "source": [
    "catalogue_drop_duplicates.insert(8, \"cluster\", kmeans.labels_)"
   ]
  },
  {
   "cell_type": "code",
   "execution_count": 24,
   "id": "1386d2dd",
   "metadata": {},
   "outputs": [
    {
     "data": {
      "text/html": [
       "<div>\n",
       "<style scoped>\n",
       "    .dataframe tbody tr th:only-of-type {\n",
       "        vertical-align: middle;\n",
       "    }\n",
       "\n",
       "    .dataframe tbody tr th {\n",
       "        vertical-align: top;\n",
       "    }\n",
       "\n",
       "    .dataframe thead th {\n",
       "        text-align: right;\n",
       "    }\n",
       "</style>\n",
       "<table border=\"1\" class=\"dataframe\">\n",
       "  <thead>\n",
       "    <tr style=\"text-align: right;\">\n",
       "      <th></th>\n",
       "      <th>marque</th>\n",
       "      <th>nom</th>\n",
       "      <th>puissance</th>\n",
       "      <th>longueur</th>\n",
       "      <th>nbPlaces</th>\n",
       "      <th>nbPortes</th>\n",
       "      <th>occasion</th>\n",
       "      <th>prix</th>\n",
       "      <th>cluster</th>\n",
       "    </tr>\n",
       "  </thead>\n",
       "  <tbody>\n",
       "    <tr>\n",
       "      <th>0</th>\n",
       "      <td>Volvo</td>\n",
       "      <td>S80 T6</td>\n",
       "      <td>272</td>\n",
       "      <td>très longue</td>\n",
       "      <td>5</td>\n",
       "      <td>5</td>\n",
       "      <td>False</td>\n",
       "      <td>50500</td>\n",
       "      <td>1</td>\n",
       "    </tr>\n",
       "    <tr>\n",
       "      <th>3</th>\n",
       "      <td>Volvo</td>\n",
       "      <td>S80 T6</td>\n",
       "      <td>272</td>\n",
       "      <td>très longue</td>\n",
       "      <td>5</td>\n",
       "      <td>5</td>\n",
       "      <td>True</td>\n",
       "      <td>35350</td>\n",
       "      <td>1</td>\n",
       "    </tr>\n",
       "    <tr>\n",
       "      <th>10</th>\n",
       "      <td>Volkswagen</td>\n",
       "      <td>Touran 2.0 FSI</td>\n",
       "      <td>150</td>\n",
       "      <td>longue</td>\n",
       "      <td>7</td>\n",
       "      <td>5</td>\n",
       "      <td>False</td>\n",
       "      <td>27340</td>\n",
       "      <td>2</td>\n",
       "    </tr>\n",
       "    <tr>\n",
       "      <th>11</th>\n",
       "      <td>Volkswagen</td>\n",
       "      <td>Touran 2.0 FSI</td>\n",
       "      <td>150</td>\n",
       "      <td>longue</td>\n",
       "      <td>7</td>\n",
       "      <td>5</td>\n",
       "      <td>True</td>\n",
       "      <td>19138</td>\n",
       "      <td>2</td>\n",
       "    </tr>\n",
       "    <tr>\n",
       "      <th>20</th>\n",
       "      <td>Volkswagen</td>\n",
       "      <td>Polo 1.2 6V</td>\n",
       "      <td>55</td>\n",
       "      <td>courte</td>\n",
       "      <td>5</td>\n",
       "      <td>3</td>\n",
       "      <td>True</td>\n",
       "      <td>8540</td>\n",
       "      <td>3</td>\n",
       "    </tr>\n",
       "  </tbody>\n",
       "</table>\n",
       "</div>"
      ],
      "text/plain": [
       "        marque             nom  puissance     longueur  nbPlaces  nbPortes  \\\n",
       "0        Volvo          S80 T6        272  très longue         5         5   \n",
       "3        Volvo          S80 T6        272  très longue         5         5   \n",
       "10  Volkswagen  Touran 2.0 FSI        150       longue         7         5   \n",
       "11  Volkswagen  Touran 2.0 FSI        150       longue         7         5   \n",
       "20  Volkswagen     Polo 1.2 6V         55       courte         5         3   \n",
       "\n",
       "    occasion   prix  cluster  \n",
       "0      False  50500        1  \n",
       "3       True  35350        1  \n",
       "10     False  27340        2  \n",
       "11      True  19138        2  \n",
       "20      True   8540        3  "
      ]
     },
     "execution_count": 24,
     "metadata": {},
     "output_type": "execute_result"
    }
   ],
   "source": [
    "catalogue_drop_duplicates.head()"
   ]
  },
  {
   "cell_type": "markdown",
   "id": "809cdf2b",
   "metadata": {},
   "source": [
    "After analysing the new catalogue clustered file, we decide to attribute cluster names as:\n",
    "    1: Luxury car\n",
    "    2: Sport car\n",
    "    3: Family car\n",
    "    4: Urban car"
   ]
  },
  {
   "cell_type": "code",
   "execution_count": 26,
   "id": "427c3e3a",
   "metadata": {},
   "outputs": [],
   "source": [
    "merged_df = pd.merge(catalogue_df, catalogue_drop_duplicates, on=['marque','nom','puissance', 'longueur', 'nbPlaces', 'nbPortes', 'occasion', 'prix'], how='left')"
   ]
  },
  {
   "cell_type": "code",
   "execution_count": 27,
   "id": "e0d03533",
   "metadata": {},
   "outputs": [
    {
     "data": {
      "text/html": [
       "<div>\n",
       "<style scoped>\n",
       "    .dataframe tbody tr th:only-of-type {\n",
       "        vertical-align: middle;\n",
       "    }\n",
       "\n",
       "    .dataframe tbody tr th {\n",
       "        vertical-align: top;\n",
       "    }\n",
       "\n",
       "    .dataframe thead th {\n",
       "        text-align: right;\n",
       "    }\n",
       "</style>\n",
       "<table border=\"1\" class=\"dataframe\">\n",
       "  <thead>\n",
       "    <tr style=\"text-align: right;\">\n",
       "      <th></th>\n",
       "      <th>marque</th>\n",
       "      <th>nom</th>\n",
       "      <th>puissance</th>\n",
       "      <th>longueur</th>\n",
       "      <th>nbPlaces</th>\n",
       "      <th>nbPortes</th>\n",
       "      <th>couleur</th>\n",
       "      <th>occasion</th>\n",
       "      <th>prix</th>\n",
       "      <th>cluster</th>\n",
       "    </tr>\n",
       "  </thead>\n",
       "  <tbody>\n",
       "    <tr>\n",
       "      <th>0</th>\n",
       "      <td>Volvo</td>\n",
       "      <td>S80 T6</td>\n",
       "      <td>272</td>\n",
       "      <td>très longue</td>\n",
       "      <td>5</td>\n",
       "      <td>5</td>\n",
       "      <td>blanc</td>\n",
       "      <td>False</td>\n",
       "      <td>50500</td>\n",
       "      <td>1</td>\n",
       "    </tr>\n",
       "    <tr>\n",
       "      <th>1</th>\n",
       "      <td>Volvo</td>\n",
       "      <td>S80 T6</td>\n",
       "      <td>272</td>\n",
       "      <td>très longue</td>\n",
       "      <td>5</td>\n",
       "      <td>5</td>\n",
       "      <td>noir</td>\n",
       "      <td>False</td>\n",
       "      <td>50500</td>\n",
       "      <td>1</td>\n",
       "    </tr>\n",
       "    <tr>\n",
       "      <th>2</th>\n",
       "      <td>Volvo</td>\n",
       "      <td>S80 T6</td>\n",
       "      <td>272</td>\n",
       "      <td>très longue</td>\n",
       "      <td>5</td>\n",
       "      <td>5</td>\n",
       "      <td>rouge</td>\n",
       "      <td>False</td>\n",
       "      <td>50500</td>\n",
       "      <td>1</td>\n",
       "    </tr>\n",
       "    <tr>\n",
       "      <th>3</th>\n",
       "      <td>Volvo</td>\n",
       "      <td>S80 T6</td>\n",
       "      <td>272</td>\n",
       "      <td>très longue</td>\n",
       "      <td>5</td>\n",
       "      <td>5</td>\n",
       "      <td>gris</td>\n",
       "      <td>True</td>\n",
       "      <td>35350</td>\n",
       "      <td>1</td>\n",
       "    </tr>\n",
       "    <tr>\n",
       "      <th>4</th>\n",
       "      <td>Volvo</td>\n",
       "      <td>S80 T6</td>\n",
       "      <td>272</td>\n",
       "      <td>très longue</td>\n",
       "      <td>5</td>\n",
       "      <td>5</td>\n",
       "      <td>bleu</td>\n",
       "      <td>True</td>\n",
       "      <td>35350</td>\n",
       "      <td>1</td>\n",
       "    </tr>\n",
       "  </tbody>\n",
       "</table>\n",
       "</div>"
      ],
      "text/plain": [
       "  marque     nom  puissance     longueur  nbPlaces  nbPortes couleur  \\\n",
       "0  Volvo  S80 T6        272  très longue         5         5   blanc   \n",
       "1  Volvo  S80 T6        272  très longue         5         5    noir   \n",
       "2  Volvo  S80 T6        272  très longue         5         5   rouge   \n",
       "3  Volvo  S80 T6        272  très longue         5         5    gris   \n",
       "4  Volvo  S80 T6        272  très longue         5         5    bleu   \n",
       "\n",
       "   occasion   prix  cluster  \n",
       "0     False  50500        1  \n",
       "1     False  50500        1  \n",
       "2     False  50500        1  \n",
       "3      True  35350        1  \n",
       "4      True  35350        1  "
      ]
     },
     "execution_count": 27,
     "metadata": {},
     "output_type": "execute_result"
    }
   ],
   "source": [
    "merged_df.head()"
   ]
  },
  {
   "cell_type": "code",
   "execution_count": 28,
   "id": "0075075f",
   "metadata": {},
   "outputs": [
    {
     "data": {
      "text/plain": [
       "(270, 10)"
      ]
     },
     "execution_count": 28,
     "metadata": {},
     "output_type": "execute_result"
    }
   ],
   "source": [
    "merged_df.shape"
   ]
  },
  {
   "cell_type": "code",
   "execution_count": 36,
   "id": "3b1f62a2",
   "metadata": {},
   "outputs": [],
   "source": [
    "cluster_names = {\n",
    "    0: \"Luxury car\",\n",
    "    1: \"Sport car\",\n",
    "    2: \"Family car\",\n",
    "    3: \"Urban car\"\n",
    "}\n",
    "\n",
    "merged_df['cluster'] = merged_df['cluster'].replace(cluster_names)\n",
    "catalogue_drop_duplicates['cluster'] = catalogue_drop_duplicates['cluster'].replace(cluster_names)"
   ]
  },
  {
   "cell_type": "code",
   "execution_count": 31,
   "id": "6ee4d3ea",
   "metadata": {},
   "outputs": [
    {
     "data": {
      "text/html": [
       "<div>\n",
       "<style scoped>\n",
       "    .dataframe tbody tr th:only-of-type {\n",
       "        vertical-align: middle;\n",
       "    }\n",
       "\n",
       "    .dataframe tbody tr th {\n",
       "        vertical-align: top;\n",
       "    }\n",
       "\n",
       "    .dataframe thead th {\n",
       "        text-align: right;\n",
       "    }\n",
       "</style>\n",
       "<table border=\"1\" class=\"dataframe\">\n",
       "  <thead>\n",
       "    <tr style=\"text-align: right;\">\n",
       "      <th></th>\n",
       "      <th>marque</th>\n",
       "      <th>nom</th>\n",
       "      <th>puissance</th>\n",
       "      <th>longueur</th>\n",
       "      <th>nbPlaces</th>\n",
       "      <th>nbPortes</th>\n",
       "      <th>couleur</th>\n",
       "      <th>occasion</th>\n",
       "      <th>prix</th>\n",
       "      <th>cluster</th>\n",
       "    </tr>\n",
       "  </thead>\n",
       "  <tbody>\n",
       "    <tr>\n",
       "      <th>0</th>\n",
       "      <td>Volvo</td>\n",
       "      <td>S80 T6</td>\n",
       "      <td>272</td>\n",
       "      <td>très longue</td>\n",
       "      <td>5</td>\n",
       "      <td>5</td>\n",
       "      <td>blanc</td>\n",
       "      <td>False</td>\n",
       "      <td>50500</td>\n",
       "      <td>Sport car</td>\n",
       "    </tr>\n",
       "    <tr>\n",
       "      <th>1</th>\n",
       "      <td>Volvo</td>\n",
       "      <td>S80 T6</td>\n",
       "      <td>272</td>\n",
       "      <td>très longue</td>\n",
       "      <td>5</td>\n",
       "      <td>5</td>\n",
       "      <td>noir</td>\n",
       "      <td>False</td>\n",
       "      <td>50500</td>\n",
       "      <td>Sport car</td>\n",
       "    </tr>\n",
       "    <tr>\n",
       "      <th>2</th>\n",
       "      <td>Volvo</td>\n",
       "      <td>S80 T6</td>\n",
       "      <td>272</td>\n",
       "      <td>très longue</td>\n",
       "      <td>5</td>\n",
       "      <td>5</td>\n",
       "      <td>rouge</td>\n",
       "      <td>False</td>\n",
       "      <td>50500</td>\n",
       "      <td>Sport car</td>\n",
       "    </tr>\n",
       "    <tr>\n",
       "      <th>3</th>\n",
       "      <td>Volvo</td>\n",
       "      <td>S80 T6</td>\n",
       "      <td>272</td>\n",
       "      <td>très longue</td>\n",
       "      <td>5</td>\n",
       "      <td>5</td>\n",
       "      <td>gris</td>\n",
       "      <td>True</td>\n",
       "      <td>35350</td>\n",
       "      <td>Sport car</td>\n",
       "    </tr>\n",
       "    <tr>\n",
       "      <th>4</th>\n",
       "      <td>Volvo</td>\n",
       "      <td>S80 T6</td>\n",
       "      <td>272</td>\n",
       "      <td>très longue</td>\n",
       "      <td>5</td>\n",
       "      <td>5</td>\n",
       "      <td>bleu</td>\n",
       "      <td>True</td>\n",
       "      <td>35350</td>\n",
       "      <td>Sport car</td>\n",
       "    </tr>\n",
       "  </tbody>\n",
       "</table>\n",
       "</div>"
      ],
      "text/plain": [
       "  marque     nom  puissance     longueur  nbPlaces  nbPortes couleur  \\\n",
       "0  Volvo  S80 T6        272  très longue         5         5   blanc   \n",
       "1  Volvo  S80 T6        272  très longue         5         5    noir   \n",
       "2  Volvo  S80 T6        272  très longue         5         5   rouge   \n",
       "3  Volvo  S80 T6        272  très longue         5         5    gris   \n",
       "4  Volvo  S80 T6        272  très longue         5         5    bleu   \n",
       "\n",
       "   occasion   prix    cluster  \n",
       "0     False  50500  Sport car  \n",
       "1     False  50500  Sport car  \n",
       "2     False  50500  Sport car  \n",
       "3      True  35350  Sport car  \n",
       "4      True  35350  Sport car  "
      ]
     },
     "execution_count": 31,
     "metadata": {},
     "output_type": "execute_result"
    }
   ],
   "source": [
    "merged_df.head()"
   ]
  },
  {
   "cell_type": "markdown",
   "id": "379b09c6",
   "metadata": {},
   "source": [
    "Export our catalogue new dataset file"
   ]
  },
  {
   "cell_type": "code",
   "execution_count": 32,
   "id": "cd1b3f70",
   "metadata": {},
   "outputs": [],
   "source": [
    "merged_df.to_excel(\"Catalogue_Clusters.xlsx\")"
   ]
  },
  {
   "cell_type": "markdown",
   "id": "c1c01ccc",
   "metadata": {},
   "source": [
    "# Immatriculation Analysis"
   ]
  },
  {
   "cell_type": "markdown",
   "id": "5448a387",
   "metadata": {},
   "source": [
    "## Import immatriculation dataset"
   ]
  },
  {
   "cell_type": "code",
   "execution_count": 33,
   "id": "484c9cba",
   "metadata": {},
   "outputs": [],
   "source": [
    "immatriculation_df = pd.read_csv('projet_data_mining/Immatriculations.csv', encoding='latin1')"
   ]
  },
  {
   "cell_type": "code",
   "execution_count": 35,
   "id": "23c37300",
   "metadata": {},
   "outputs": [
    {
     "data": {
      "text/html": [
       "<div>\n",
       "<style scoped>\n",
       "    .dataframe tbody tr th:only-of-type {\n",
       "        vertical-align: middle;\n",
       "    }\n",
       "\n",
       "    .dataframe tbody tr th {\n",
       "        vertical-align: top;\n",
       "    }\n",
       "\n",
       "    .dataframe thead th {\n",
       "        text-align: right;\n",
       "    }\n",
       "</style>\n",
       "<table border=\"1\" class=\"dataframe\">\n",
       "  <thead>\n",
       "    <tr style=\"text-align: right;\">\n",
       "      <th></th>\n",
       "      <th>immatriculation</th>\n",
       "      <th>marque</th>\n",
       "      <th>nom</th>\n",
       "      <th>puissance</th>\n",
       "      <th>longueur</th>\n",
       "      <th>nbPlaces</th>\n",
       "      <th>nbPortes</th>\n",
       "      <th>couleur</th>\n",
       "      <th>occasion</th>\n",
       "      <th>prix</th>\n",
       "    </tr>\n",
       "  </thead>\n",
       "  <tbody>\n",
       "    <tr>\n",
       "      <th>0</th>\n",
       "      <td>3176 TS 67</td>\n",
       "      <td>Renault</td>\n",
       "      <td>Laguna 2.0T</td>\n",
       "      <td>170</td>\n",
       "      <td>longue</td>\n",
       "      <td>5</td>\n",
       "      <td>5</td>\n",
       "      <td>blanc</td>\n",
       "      <td>False</td>\n",
       "      <td>27300</td>\n",
       "    </tr>\n",
       "    <tr>\n",
       "      <th>1</th>\n",
       "      <td>3721 QS 49</td>\n",
       "      <td>Volvo</td>\n",
       "      <td>S80 T6</td>\n",
       "      <td>272</td>\n",
       "      <td>très longue</td>\n",
       "      <td>5</td>\n",
       "      <td>5</td>\n",
       "      <td>noir</td>\n",
       "      <td>False</td>\n",
       "      <td>50500</td>\n",
       "    </tr>\n",
       "    <tr>\n",
       "      <th>2</th>\n",
       "      <td>9099 UV 26</td>\n",
       "      <td>Volkswagen</td>\n",
       "      <td>Golf 2.0 FSI</td>\n",
       "      <td>150</td>\n",
       "      <td>moyenne</td>\n",
       "      <td>5</td>\n",
       "      <td>5</td>\n",
       "      <td>gris</td>\n",
       "      <td>True</td>\n",
       "      <td>16029</td>\n",
       "    </tr>\n",
       "    <tr>\n",
       "      <th>3</th>\n",
       "      <td>3563 LA 55</td>\n",
       "      <td>Peugeot</td>\n",
       "      <td>1007 1.4</td>\n",
       "      <td>75</td>\n",
       "      <td>courte</td>\n",
       "      <td>5</td>\n",
       "      <td>5</td>\n",
       "      <td>blanc</td>\n",
       "      <td>True</td>\n",
       "      <td>9625</td>\n",
       "    </tr>\n",
       "    <tr>\n",
       "      <th>4</th>\n",
       "      <td>6963 AX 34</td>\n",
       "      <td>Audi</td>\n",
       "      <td>A2 1.4</td>\n",
       "      <td>75</td>\n",
       "      <td>courte</td>\n",
       "      <td>5</td>\n",
       "      <td>5</td>\n",
       "      <td>gris</td>\n",
       "      <td>False</td>\n",
       "      <td>18310</td>\n",
       "    </tr>\n",
       "    <tr>\n",
       "      <th>...</th>\n",
       "      <td>...</td>\n",
       "      <td>...</td>\n",
       "      <td>...</td>\n",
       "      <td>...</td>\n",
       "      <td>...</td>\n",
       "      <td>...</td>\n",
       "      <td>...</td>\n",
       "      <td>...</td>\n",
       "      <td>...</td>\n",
       "      <td>...</td>\n",
       "    </tr>\n",
       "    <tr>\n",
       "      <th>1999995</th>\n",
       "      <td>771 CQ 78</td>\n",
       "      <td>Mercedes</td>\n",
       "      <td>S500</td>\n",
       "      <td>306</td>\n",
       "      <td>très longue</td>\n",
       "      <td>5</td>\n",
       "      <td>5</td>\n",
       "      <td>gris</td>\n",
       "      <td>True</td>\n",
       "      <td>70910</td>\n",
       "    </tr>\n",
       "    <tr>\n",
       "      <th>1999996</th>\n",
       "      <td>8182 PL 97</td>\n",
       "      <td>Lancia</td>\n",
       "      <td>Ypsilon 1.4 16V</td>\n",
       "      <td>90</td>\n",
       "      <td>courte</td>\n",
       "      <td>5</td>\n",
       "      <td>3</td>\n",
       "      <td>blanc</td>\n",
       "      <td>True</td>\n",
       "      <td>9450</td>\n",
       "    </tr>\n",
       "    <tr>\n",
       "      <th>1999997</th>\n",
       "      <td>8550 AP 53</td>\n",
       "      <td>Ford</td>\n",
       "      <td>Mondeo 1.8</td>\n",
       "      <td>125</td>\n",
       "      <td>longue</td>\n",
       "      <td>5</td>\n",
       "      <td>5</td>\n",
       "      <td>rouge</td>\n",
       "      <td>False</td>\n",
       "      <td>23900</td>\n",
       "    </tr>\n",
       "    <tr>\n",
       "      <th>1999998</th>\n",
       "      <td>737 MK 20</td>\n",
       "      <td>Audi</td>\n",
       "      <td>A2 1.4</td>\n",
       "      <td>75</td>\n",
       "      <td>courte</td>\n",
       "      <td>5</td>\n",
       "      <td>5</td>\n",
       "      <td>bleu</td>\n",
       "      <td>True</td>\n",
       "      <td>12817</td>\n",
       "    </tr>\n",
       "    <tr>\n",
       "      <th>1999999</th>\n",
       "      <td>403 PT 42</td>\n",
       "      <td>Volkswagen</td>\n",
       "      <td>Golf 2.0 FSI</td>\n",
       "      <td>150</td>\n",
       "      <td>moyenne</td>\n",
       "      <td>5</td>\n",
       "      <td>5</td>\n",
       "      <td>blanc</td>\n",
       "      <td>False</td>\n",
       "      <td>22900</td>\n",
       "    </tr>\n",
       "  </tbody>\n",
       "</table>\n",
       "<p>2000000 rows × 10 columns</p>\n",
       "</div>"
      ],
      "text/plain": [
       "        immatriculation      marque              nom  puissance     longueur  \\\n",
       "0            3176 TS 67     Renault      Laguna 2.0T        170       longue   \n",
       "1            3721 QS 49       Volvo           S80 T6        272  très longue   \n",
       "2            9099 UV 26  Volkswagen     Golf 2.0 FSI        150      moyenne   \n",
       "3            3563 LA 55     Peugeot         1007 1.4         75       courte   \n",
       "4            6963 AX 34        Audi           A2 1.4         75       courte   \n",
       "...                 ...         ...              ...        ...          ...   \n",
       "1999995       771 CQ 78    Mercedes             S500        306  très longue   \n",
       "1999996      8182 PL 97      Lancia  Ypsilon 1.4 16V         90       courte   \n",
       "1999997      8550 AP 53        Ford       Mondeo 1.8        125       longue   \n",
       "1999998       737 MK 20        Audi           A2 1.4         75       courte   \n",
       "1999999       403 PT 42  Volkswagen     Golf 2.0 FSI        150      moyenne   \n",
       "\n",
       "         nbPlaces  nbPortes couleur  occasion   prix  \n",
       "0               5         5   blanc     False  27300  \n",
       "1               5         5    noir     False  50500  \n",
       "2               5         5    gris      True  16029  \n",
       "3               5         5   blanc      True   9625  \n",
       "4               5         5    gris     False  18310  \n",
       "...           ...       ...     ...       ...    ...  \n",
       "1999995         5         5    gris      True  70910  \n",
       "1999996         5         3   blanc      True   9450  \n",
       "1999997         5         5   rouge     False  23900  \n",
       "1999998         5         5    bleu      True  12817  \n",
       "1999999         5         5   blanc     False  22900  \n",
       "\n",
       "[2000000 rows x 10 columns]"
      ]
     },
     "execution_count": 35,
     "metadata": {},
     "output_type": "execute_result"
    }
   ],
   "source": [
    "immatriculation_df"
   ]
  },
  {
   "cell_type": "markdown",
   "id": "3194a14f",
   "metadata": {},
   "source": [
    "## Merge Immatriculations with catalogue clustered"
   ]
  },
  {
   "cell_type": "code",
   "execution_count": 37,
   "id": "e5c38fe1",
   "metadata": {},
   "outputs": [],
   "source": [
    "immatriculation_merged_df = pd.merge(immatriculation_df, catalogue_drop_duplicates, on=['marque','nom','puissance', 'longueur', 'nbPlaces', 'nbPortes', 'occasion', 'prix'], how='left')"
   ]
  },
  {
   "cell_type": "code",
   "execution_count": 38,
   "id": "06cad4a3",
   "metadata": {},
   "outputs": [
    {
     "data": {
      "text/html": [
       "<div>\n",
       "<style scoped>\n",
       "    .dataframe tbody tr th:only-of-type {\n",
       "        vertical-align: middle;\n",
       "    }\n",
       "\n",
       "    .dataframe tbody tr th {\n",
       "        vertical-align: top;\n",
       "    }\n",
       "\n",
       "    .dataframe thead th {\n",
       "        text-align: right;\n",
       "    }\n",
       "</style>\n",
       "<table border=\"1\" class=\"dataframe\">\n",
       "  <thead>\n",
       "    <tr style=\"text-align: right;\">\n",
       "      <th></th>\n",
       "      <th>immatriculation</th>\n",
       "      <th>marque</th>\n",
       "      <th>nom</th>\n",
       "      <th>puissance</th>\n",
       "      <th>longueur</th>\n",
       "      <th>nbPlaces</th>\n",
       "      <th>nbPortes</th>\n",
       "      <th>couleur</th>\n",
       "      <th>occasion</th>\n",
       "      <th>prix</th>\n",
       "      <th>cluster</th>\n",
       "    </tr>\n",
       "  </thead>\n",
       "  <tbody>\n",
       "    <tr>\n",
       "      <th>0</th>\n",
       "      <td>3176 TS 67</td>\n",
       "      <td>Renault</td>\n",
       "      <td>Laguna 2.0T</td>\n",
       "      <td>170</td>\n",
       "      <td>longue</td>\n",
       "      <td>5</td>\n",
       "      <td>5</td>\n",
       "      <td>blanc</td>\n",
       "      <td>False</td>\n",
       "      <td>27300</td>\n",
       "      <td>Luxury car</td>\n",
       "    </tr>\n",
       "    <tr>\n",
       "      <th>1</th>\n",
       "      <td>3721 QS 49</td>\n",
       "      <td>Volvo</td>\n",
       "      <td>S80 T6</td>\n",
       "      <td>272</td>\n",
       "      <td>très longue</td>\n",
       "      <td>5</td>\n",
       "      <td>5</td>\n",
       "      <td>noir</td>\n",
       "      <td>False</td>\n",
       "      <td>50500</td>\n",
       "      <td>Sport car</td>\n",
       "    </tr>\n",
       "    <tr>\n",
       "      <th>2</th>\n",
       "      <td>9099 UV 26</td>\n",
       "      <td>Volkswagen</td>\n",
       "      <td>Golf 2.0 FSI</td>\n",
       "      <td>150</td>\n",
       "      <td>moyenne</td>\n",
       "      <td>5</td>\n",
       "      <td>5</td>\n",
       "      <td>gris</td>\n",
       "      <td>True</td>\n",
       "      <td>16029</td>\n",
       "      <td>Luxury car</td>\n",
       "    </tr>\n",
       "    <tr>\n",
       "      <th>3</th>\n",
       "      <td>3563 LA 55</td>\n",
       "      <td>Peugeot</td>\n",
       "      <td>1007 1.4</td>\n",
       "      <td>75</td>\n",
       "      <td>courte</td>\n",
       "      <td>5</td>\n",
       "      <td>5</td>\n",
       "      <td>blanc</td>\n",
       "      <td>True</td>\n",
       "      <td>9625</td>\n",
       "      <td>Luxury car</td>\n",
       "    </tr>\n",
       "    <tr>\n",
       "      <th>4</th>\n",
       "      <td>6963 AX 34</td>\n",
       "      <td>Audi</td>\n",
       "      <td>A2 1.4</td>\n",
       "      <td>75</td>\n",
       "      <td>courte</td>\n",
       "      <td>5</td>\n",
       "      <td>5</td>\n",
       "      <td>gris</td>\n",
       "      <td>False</td>\n",
       "      <td>18310</td>\n",
       "      <td>Luxury car</td>\n",
       "    </tr>\n",
       "    <tr>\n",
       "      <th>...</th>\n",
       "      <td>...</td>\n",
       "      <td>...</td>\n",
       "      <td>...</td>\n",
       "      <td>...</td>\n",
       "      <td>...</td>\n",
       "      <td>...</td>\n",
       "      <td>...</td>\n",
       "      <td>...</td>\n",
       "      <td>...</td>\n",
       "      <td>...</td>\n",
       "      <td>...</td>\n",
       "    </tr>\n",
       "    <tr>\n",
       "      <th>1999995</th>\n",
       "      <td>771 CQ 78</td>\n",
       "      <td>Mercedes</td>\n",
       "      <td>S500</td>\n",
       "      <td>306</td>\n",
       "      <td>très longue</td>\n",
       "      <td>5</td>\n",
       "      <td>5</td>\n",
       "      <td>gris</td>\n",
       "      <td>True</td>\n",
       "      <td>70910</td>\n",
       "      <td>Sport car</td>\n",
       "    </tr>\n",
       "    <tr>\n",
       "      <th>1999996</th>\n",
       "      <td>8182 PL 97</td>\n",
       "      <td>Lancia</td>\n",
       "      <td>Ypsilon 1.4 16V</td>\n",
       "      <td>90</td>\n",
       "      <td>courte</td>\n",
       "      <td>5</td>\n",
       "      <td>3</td>\n",
       "      <td>blanc</td>\n",
       "      <td>True</td>\n",
       "      <td>9450</td>\n",
       "      <td>Urban car</td>\n",
       "    </tr>\n",
       "    <tr>\n",
       "      <th>1999997</th>\n",
       "      <td>8550 AP 53</td>\n",
       "      <td>Ford</td>\n",
       "      <td>Mondeo 1.8</td>\n",
       "      <td>125</td>\n",
       "      <td>longue</td>\n",
       "      <td>5</td>\n",
       "      <td>5</td>\n",
       "      <td>rouge</td>\n",
       "      <td>False</td>\n",
       "      <td>23900</td>\n",
       "      <td>Luxury car</td>\n",
       "    </tr>\n",
       "    <tr>\n",
       "      <th>1999998</th>\n",
       "      <td>737 MK 20</td>\n",
       "      <td>Audi</td>\n",
       "      <td>A2 1.4</td>\n",
       "      <td>75</td>\n",
       "      <td>courte</td>\n",
       "      <td>5</td>\n",
       "      <td>5</td>\n",
       "      <td>bleu</td>\n",
       "      <td>True</td>\n",
       "      <td>12817</td>\n",
       "      <td>Luxury car</td>\n",
       "    </tr>\n",
       "    <tr>\n",
       "      <th>1999999</th>\n",
       "      <td>403 PT 42</td>\n",
       "      <td>Volkswagen</td>\n",
       "      <td>Golf 2.0 FSI</td>\n",
       "      <td>150</td>\n",
       "      <td>moyenne</td>\n",
       "      <td>5</td>\n",
       "      <td>5</td>\n",
       "      <td>blanc</td>\n",
       "      <td>False</td>\n",
       "      <td>22900</td>\n",
       "      <td>Luxury car</td>\n",
       "    </tr>\n",
       "  </tbody>\n",
       "</table>\n",
       "<p>2000000 rows × 11 columns</p>\n",
       "</div>"
      ],
      "text/plain": [
       "        immatriculation      marque              nom  puissance     longueur  \\\n",
       "0            3176 TS 67     Renault      Laguna 2.0T        170       longue   \n",
       "1            3721 QS 49       Volvo           S80 T6        272  très longue   \n",
       "2            9099 UV 26  Volkswagen     Golf 2.0 FSI        150      moyenne   \n",
       "3            3563 LA 55     Peugeot         1007 1.4         75       courte   \n",
       "4            6963 AX 34        Audi           A2 1.4         75       courte   \n",
       "...                 ...         ...              ...        ...          ...   \n",
       "1999995       771 CQ 78    Mercedes             S500        306  très longue   \n",
       "1999996      8182 PL 97      Lancia  Ypsilon 1.4 16V         90       courte   \n",
       "1999997      8550 AP 53        Ford       Mondeo 1.8        125       longue   \n",
       "1999998       737 MK 20        Audi           A2 1.4         75       courte   \n",
       "1999999       403 PT 42  Volkswagen     Golf 2.0 FSI        150      moyenne   \n",
       "\n",
       "         nbPlaces  nbPortes couleur  occasion   prix     cluster  \n",
       "0               5         5   blanc     False  27300  Luxury car  \n",
       "1               5         5    noir     False  50500   Sport car  \n",
       "2               5         5    gris      True  16029  Luxury car  \n",
       "3               5         5   blanc      True   9625  Luxury car  \n",
       "4               5         5    gris     False  18310  Luxury car  \n",
       "...           ...       ...     ...       ...    ...         ...  \n",
       "1999995         5         5    gris      True  70910   Sport car  \n",
       "1999996         5         3   blanc      True   9450   Urban car  \n",
       "1999997         5         5   rouge     False  23900  Luxury car  \n",
       "1999998         5         5    bleu      True  12817  Luxury car  \n",
       "1999999         5         5   blanc     False  22900  Luxury car  \n",
       "\n",
       "[2000000 rows x 11 columns]"
      ]
     },
     "execution_count": 38,
     "metadata": {},
     "output_type": "execute_result"
    }
   ],
   "source": [
    "immatriculation_merged_df"
   ]
  },
  {
   "cell_type": "markdown",
   "id": "51b8ac21",
   "metadata": {},
   "source": [
    " # Client Analysis"
   ]
  },
  {
   "cell_type": "markdown",
   "id": "ee9887ed",
   "metadata": {},
   "source": [
    "## Import Client dataset\n"
   ]
  },
  {
   "cell_type": "code",
   "execution_count": 73,
   "id": "61d9d4ee",
   "metadata": {},
   "outputs": [],
   "source": [
    "client_df = pd.read_csv('projet_data_mining/Clients.csv', encoding='latin1')"
   ]
  },
  {
   "cell_type": "code",
   "execution_count": 74,
   "id": "ae5778e4",
   "metadata": {},
   "outputs": [
    {
     "data": {
      "text/html": [
       "<div>\n",
       "<style scoped>\n",
       "    .dataframe tbody tr th:only-of-type {\n",
       "        vertical-align: middle;\n",
       "    }\n",
       "\n",
       "    .dataframe tbody tr th {\n",
       "        vertical-align: top;\n",
       "    }\n",
       "\n",
       "    .dataframe thead th {\n",
       "        text-align: right;\n",
       "    }\n",
       "</style>\n",
       "<table border=\"1\" class=\"dataframe\">\n",
       "  <thead>\n",
       "    <tr style=\"text-align: right;\">\n",
       "      <th></th>\n",
       "      <th>age</th>\n",
       "      <th>sexe</th>\n",
       "      <th>taux</th>\n",
       "      <th>situationFamiliale</th>\n",
       "      <th>nbEnfantsAcharge</th>\n",
       "      <th>2eme voiture</th>\n",
       "      <th>immatriculation</th>\n",
       "    </tr>\n",
       "  </thead>\n",
       "  <tbody>\n",
       "    <tr>\n",
       "      <th>0</th>\n",
       "      <td>25</td>\n",
       "      <td>F</td>\n",
       "      <td>159</td>\n",
       "      <td>En Couple</td>\n",
       "      <td>2</td>\n",
       "      <td>false</td>\n",
       "      <td>3467 SB 72</td>\n",
       "    </tr>\n",
       "    <tr>\n",
       "      <th>1</th>\n",
       "      <td>53</td>\n",
       "      <td>M</td>\n",
       "      <td>594</td>\n",
       "      <td>En Couple</td>\n",
       "      <td>2</td>\n",
       "      <td>false</td>\n",
       "      <td>113 LY 42</td>\n",
       "    </tr>\n",
       "    <tr>\n",
       "      <th>2</th>\n",
       "      <td>20</td>\n",
       "      <td>F</td>\n",
       "      <td>949</td>\n",
       "      <td>En Couple</td>\n",
       "      <td>1</td>\n",
       "      <td>false</td>\n",
       "      <td>925 WK 87</td>\n",
       "    </tr>\n",
       "    <tr>\n",
       "      <th>3</th>\n",
       "      <td>29</td>\n",
       "      <td>M</td>\n",
       "      <td>571</td>\n",
       "      <td>En Couple</td>\n",
       "      <td>2</td>\n",
       "      <td>false</td>\n",
       "      <td>3279 RV 81</td>\n",
       "    </tr>\n",
       "    <tr>\n",
       "      <th>4</th>\n",
       "      <td>47</td>\n",
       "      <td>M</td>\n",
       "      <td>502</td>\n",
       "      <td>En Couple</td>\n",
       "      <td>1</td>\n",
       "      <td>false</td>\n",
       "      <td>82 RZ 54</td>\n",
       "    </tr>\n",
       "    <tr>\n",
       "      <th>...</th>\n",
       "      <td>...</td>\n",
       "      <td>...</td>\n",
       "      <td>...</td>\n",
       "      <td>...</td>\n",
       "      <td>...</td>\n",
       "      <td>...</td>\n",
       "      <td>...</td>\n",
       "    </tr>\n",
       "    <tr>\n",
       "      <th>99995</th>\n",
       "      <td>40</td>\n",
       "      <td>M</td>\n",
       "      <td>211</td>\n",
       "      <td>Célibataire</td>\n",
       "      <td>0</td>\n",
       "      <td>false</td>\n",
       "      <td>492 KF 53</td>\n",
       "    </tr>\n",
       "    <tr>\n",
       "      <th>99996</th>\n",
       "      <td>33</td>\n",
       "      <td>M</td>\n",
       "      <td>433</td>\n",
       "      <td>Célibataire</td>\n",
       "      <td>0</td>\n",
       "      <td>false</td>\n",
       "      <td>6346 NL 15</td>\n",
       "    </tr>\n",
       "    <tr>\n",
       "      <th>99997</th>\n",
       "      <td>21</td>\n",
       "      <td>M</td>\n",
       "      <td>599</td>\n",
       "      <td>En Couple</td>\n",
       "      <td>2</td>\n",
       "      <td>false</td>\n",
       "      <td>5803 LS 45</td>\n",
       "    </tr>\n",
       "    <tr>\n",
       "      <th>99998</th>\n",
       "      <td>22</td>\n",
       "      <td>M</td>\n",
       "      <td>229</td>\n",
       "      <td>En Couple</td>\n",
       "      <td>2</td>\n",
       "      <td>false</td>\n",
       "      <td>3783 DX 64</td>\n",
       "    </tr>\n",
       "    <tr>\n",
       "      <th>99999</th>\n",
       "      <td>35</td>\n",
       "      <td>M</td>\n",
       "      <td>461</td>\n",
       "      <td>En Couple</td>\n",
       "      <td>0</td>\n",
       "      <td>false</td>\n",
       "      <td>4656 EJ 74</td>\n",
       "    </tr>\n",
       "  </tbody>\n",
       "</table>\n",
       "<p>100000 rows × 7 columns</p>\n",
       "</div>"
      ],
      "text/plain": [
       "      age sexe taux situationFamiliale nbEnfantsAcharge 2eme voiture  \\\n",
       "0      25    F  159          En Couple                2        false   \n",
       "1      53    M  594          En Couple                2        false   \n",
       "2      20    F  949          En Couple                1        false   \n",
       "3      29    M  571          En Couple                2        false   \n",
       "4      47    M  502          En Couple                1        false   \n",
       "...    ..  ...  ...                ...              ...          ...   \n",
       "99995  40    M  211        Célibataire                0        false   \n",
       "99996  33    M  433        Célibataire                0        false   \n",
       "99997  21    M  599          En Couple                2        false   \n",
       "99998  22    M  229          En Couple                2        false   \n",
       "99999  35    M  461          En Couple                0        false   \n",
       "\n",
       "      immatriculation  \n",
       "0          3467 SB 72  \n",
       "1           113 LY 42  \n",
       "2           925 WK 87  \n",
       "3          3279 RV 81  \n",
       "4            82 RZ 54  \n",
       "...               ...  \n",
       "99995       492 KF 53  \n",
       "99996      6346 NL 15  \n",
       "99997      5803 LS 45  \n",
       "99998      3783 DX 64  \n",
       "99999      4656 EJ 74  \n",
       "\n",
       "[100000 rows x 7 columns]"
      ]
     },
     "execution_count": 74,
     "metadata": {},
     "output_type": "execute_result"
    }
   ],
   "source": [
    "client_df"
   ]
  },
  {
   "cell_type": "markdown",
   "id": "c91504b5",
   "metadata": {},
   "source": [
    "## Client Preprocessing\n"
   ]
  },
  {
   "cell_type": "code",
   "execution_count": 75,
   "id": "b94e1dd8",
   "metadata": {},
   "outputs": [
    {
     "data": {
      "text/plain": [
       "age                   0\n",
       "sexe                  0\n",
       "taux                  0\n",
       "situationFamiliale    0\n",
       "nbEnfantsAcharge      0\n",
       "2eme voiture          0\n",
       "immatriculation       0\n",
       "dtype: int64"
      ]
     },
     "execution_count": 75,
     "metadata": {},
     "output_type": "execute_result"
    }
   ],
   "source": [
    "client_df.isnull().sum()"
   ]
  },
  {
   "cell_type": "code",
   "execution_count": 76,
   "id": "d5c85dc0",
   "metadata": {},
   "outputs": [
    {
     "data": {
      "text/plain": [
       "Index(['age', 'sexe', 'taux', 'situationFamiliale', 'nbEnfantsAcharge',\n",
       "       '2eme voiture', 'immatriculation'],\n",
       "      dtype='object')"
      ]
     },
     "execution_count": 76,
     "metadata": {},
     "output_type": "execute_result"
    }
   ],
   "source": [
    "client_df.columns"
   ]
  },
  {
   "cell_type": "code",
   "execution_count": 77,
   "id": "7ca04988",
   "metadata": {},
   "outputs": [
    {
     "name": "stdout",
     "output_type": "stream",
     "text": [
      "<class 'pandas.core.frame.DataFrame'>\n",
      "RangeIndex: 100000 entries, 0 to 99999\n",
      "Data columns (total 7 columns):\n",
      " #   Column              Non-Null Count   Dtype \n",
      "---  ------              --------------   ----- \n",
      " 0   age                 100000 non-null  object\n",
      " 1   sexe                100000 non-null  object\n",
      " 2   taux                100000 non-null  object\n",
      " 3   situationFamiliale  100000 non-null  object\n",
      " 4   nbEnfantsAcharge    100000 non-null  object\n",
      " 5   2eme voiture        100000 non-null  object\n",
      " 6   immatriculation     100000 non-null  object\n",
      "dtypes: object(7)\n",
      "memory usage: 5.3+ MB\n"
     ]
    }
   ],
   "source": [
    "client_df.info()"
   ]
  },
  {
   "cell_type": "markdown",
   "id": "cb7981b9",
   "metadata": {},
   "source": [
    "Convert age, taux and nbEnfantsAcharge columns to numeric"
   ]
  },
  {
   "cell_type": "code",
   "execution_count": 78,
   "id": "0db2feb4",
   "metadata": {},
   "outputs": [],
   "source": [
    "client_df['age'] = pd.to_numeric(client_df['age'], errors='coerce')\n",
    "client_df['taux'] = pd.to_numeric(client_df['taux'], errors='coerce')\n",
    "client_df['nbEnfantsAcharge'] = pd.to_numeric(client_df['nbEnfantsAcharge'], errors='coerce')"
   ]
  },
  {
   "cell_type": "code",
   "execution_count": 79,
   "id": "7081c563",
   "metadata": {},
   "outputs": [],
   "source": [
    "client_df.replace(['?', 'N/D', ' '], pd.NA, inplace=True) #declare missing value"
   ]
  },
  {
   "cell_type": "code",
   "execution_count": 115,
   "id": "1d0e985a",
   "metadata": {},
   "outputs": [],
   "source": [
    "# Replace missing values\n",
    "client_df['age'].fillna(client_df['age'].mean(), inplace=True)\n",
    "client_df['sexe'].fillna(client_df['sexe'].mode()[0], inplace=True)\n",
    "client_df['taux'].fillna(client_df['taux'].mean(), inplace=True)\n",
    "client_df['situationFamiliale'].fillna(client_df['situationFamiliale'].mode()[0], inplace=True)\n",
    "client_df['2eme voiture'].fillna(False, inplace=True)\n",
    "client_df['nbEnfantsAcharge'].fillna(0, inplace=True)"
   ]
  },
  {
   "cell_type": "code",
   "execution_count": 83,
   "id": "9191fe45",
   "metadata": {},
   "outputs": [
    {
     "data": {
      "text/plain": [
       "array([25.        , 53.        , 20.        , 29.        , 47.        ,\n",
       "       52.        , 58.        , 21.        , 42.        , 66.        ,\n",
       "       54.        , 41.        , 63.        , 46.        , 43.        ,\n",
       "       23.        , 49.        , 65.        , 24.        , 64.        ,\n",
       "       45.        , 40.        , 28.        , 18.        , 32.        ,\n",
       "       34.        , 36.        , 55.        , 79.        , 33.        ,\n",
       "       39.        , 48.        , 71.        , 51.        , 57.        ,\n",
       "       37.        , 81.        , 75.        , 62.        , 19.        ,\n",
       "       30.        , 67.        , 26.        , 22.        , 80.        ,\n",
       "       83.        , 82.        , 38.        , 35.        , 72.        ,\n",
       "       70.        , 27.        , 77.        , 59.        , 60.        ,\n",
       "       43.73333534, 31.        , 73.        , 76.        , 61.        ,\n",
       "       44.        , 68.        , 69.        , 50.        , 78.        ,\n",
       "       56.        , 74.        , 84.        , 43.73333534])"
      ]
     },
     "execution_count": 83,
     "metadata": {},
     "output_type": "execute_result"
    }
   ],
   "source": [
    "client_df.age.unique()"
   ]
  },
  {
   "cell_type": "code",
   "execution_count": 84,
   "id": "769e7ec3",
   "metadata": {},
   "outputs": [],
   "source": [
    "mean_age = client_df['age'].mean()\n",
    "client_df.loc[client_df['age'] < 0, 'age'] = mean_age"
   ]
  },
  {
   "cell_type": "code",
   "execution_count": 85,
   "id": "c22d4ef5",
   "metadata": {},
   "outputs": [
    {
     "data": {
      "text/plain": [
       "array([159., 594., 949., ..., 751., 882., 900.])"
      ]
     },
     "execution_count": 85,
     "metadata": {},
     "output_type": "execute_result"
    }
   ],
   "source": [
    "client_df.taux.unique()"
   ]
  },
  {
   "cell_type": "code",
   "execution_count": 86,
   "id": "3189890d",
   "metadata": {},
   "outputs": [],
   "source": [
    "client_df.loc[client_df['taux'] < 544, 'taux'] = 544"
   ]
  },
  {
   "cell_type": "code",
   "execution_count": 116,
   "id": "bc23fa6b",
   "metadata": {},
   "outputs": [
    {
     "data": {
      "text/plain": [
       "array(['F', 'M'], dtype=object)"
      ]
     },
     "execution_count": 116,
     "metadata": {},
     "output_type": "execute_result"
    }
   ],
   "source": [
    "client_df.sexe.unique()"
   ]
  },
  {
   "cell_type": "code",
   "execution_count": 88,
   "id": "fee71149",
   "metadata": {},
   "outputs": [],
   "source": [
    "client_df = client_df.replace(to_replace=['Homme','Masculin'], value='M')\n",
    "client_df = client_df.replace(to_replace=['Féminin','Femme'], value='F')"
   ]
  },
  {
   "cell_type": "code",
   "execution_count": 89,
   "id": "ff8c4e35",
   "metadata": {},
   "outputs": [
    {
     "data": {
      "text/plain": [
       "array(['En Couple', 'Célibataire', 'Seule', 'Marié(e)', 'Divorcée',\n",
       "       'Seul'], dtype=object)"
      ]
     },
     "execution_count": 89,
     "metadata": {},
     "output_type": "execute_result"
    }
   ],
   "source": [
    "client_df.situationFamiliale.unique()"
   ]
  },
  {
   "cell_type": "code",
   "execution_count": 120,
   "id": "07b0a6ca",
   "metadata": {},
   "outputs": [],
   "source": [
    "client_df = client_df.replace(to_replace=['Seule','Seul'], value='Célibataire')"
   ]
  },
  {
   "cell_type": "code",
   "execution_count": 121,
   "id": "199c6664",
   "metadata": {},
   "outputs": [
    {
     "data": {
      "text/plain": [
       "array(['false', 'true'], dtype=object)"
      ]
     },
     "execution_count": 121,
     "metadata": {},
     "output_type": "execute_result"
    }
   ],
   "source": [
    "client_df['2eme voiture'].unique()"
   ]
  },
  {
   "cell_type": "code",
   "execution_count": 122,
   "id": "b3ed2502",
   "metadata": {},
   "outputs": [],
   "source": [
    "client_df = client_df.replace(to_replace=[False], value='false')"
   ]
  },
  {
   "cell_type": "code",
   "execution_count": 123,
   "id": "b6a394c6",
   "metadata": {},
   "outputs": [
    {
     "data": {
      "text/plain": [
       "array([2., 1., 3., 4., 0.])"
      ]
     },
     "execution_count": 123,
     "metadata": {},
     "output_type": "execute_result"
    }
   ],
   "source": [
    "client_df.nbEnfantsAcharge.unique()"
   ]
  },
  {
   "cell_type": "code",
   "execution_count": 124,
   "id": "f95395cd",
   "metadata": {},
   "outputs": [],
   "source": [
    "client_df.loc[client_df['nbEnfantsAcharge']<0, 'nbEnfantsAcharge'] = 0"
   ]
  },
  {
   "cell_type": "code",
   "execution_count": 125,
   "id": "0ca9538f",
   "metadata": {},
   "outputs": [],
   "source": [
    "#Drop duplicated client"
   ]
  },
  {
   "cell_type": "code",
   "execution_count": 126,
   "id": "4c88174c",
   "metadata": {},
   "outputs": [],
   "source": [
    "client_drop_duplicates = client_df.drop_duplicates(subset=['immatriculation'])"
   ]
  },
  {
   "cell_type": "code",
   "execution_count": 127,
   "id": "970813cb",
   "metadata": {},
   "outputs": [
    {
     "data": {
      "text/html": [
       "<div>\n",
       "<style scoped>\n",
       "    .dataframe tbody tr th:only-of-type {\n",
       "        vertical-align: middle;\n",
       "    }\n",
       "\n",
       "    .dataframe tbody tr th {\n",
       "        vertical-align: top;\n",
       "    }\n",
       "\n",
       "    .dataframe thead th {\n",
       "        text-align: right;\n",
       "    }\n",
       "</style>\n",
       "<table border=\"1\" class=\"dataframe\">\n",
       "  <thead>\n",
       "    <tr style=\"text-align: right;\">\n",
       "      <th></th>\n",
       "      <th>age</th>\n",
       "      <th>taux</th>\n",
       "      <th>nbEnfantsAcharge</th>\n",
       "    </tr>\n",
       "  </thead>\n",
       "  <tbody>\n",
       "    <tr>\n",
       "      <th>count</th>\n",
       "      <td>99989.000000</td>\n",
       "      <td>99989.000000</td>\n",
       "      <td>99989.000000</td>\n",
       "    </tr>\n",
       "    <tr>\n",
       "      <th>mean</th>\n",
       "      <td>43.781738</td>\n",
       "      <td>702.089663</td>\n",
       "      <td>1.243727</td>\n",
       "    </tr>\n",
       "    <tr>\n",
       "      <th>std</th>\n",
       "      <td>18.276850</td>\n",
       "      <td>256.203435</td>\n",
       "      <td>1.387031</td>\n",
       "    </tr>\n",
       "    <tr>\n",
       "      <th>min</th>\n",
       "      <td>18.000000</td>\n",
       "      <td>544.000000</td>\n",
       "      <td>0.000000</td>\n",
       "    </tr>\n",
       "    <tr>\n",
       "      <th>25%</th>\n",
       "      <td>28.000000</td>\n",
       "      <td>544.000000</td>\n",
       "      <td>0.000000</td>\n",
       "    </tr>\n",
       "    <tr>\n",
       "      <th>50%</th>\n",
       "      <td>42.000000</td>\n",
       "      <td>544.000000</td>\n",
       "      <td>1.000000</td>\n",
       "    </tr>\n",
       "    <tr>\n",
       "      <th>75%</th>\n",
       "      <td>57.000000</td>\n",
       "      <td>826.000000</td>\n",
       "      <td>2.000000</td>\n",
       "    </tr>\n",
       "    <tr>\n",
       "      <th>max</th>\n",
       "      <td>84.000000</td>\n",
       "      <td>1399.000000</td>\n",
       "      <td>4.000000</td>\n",
       "    </tr>\n",
       "  </tbody>\n",
       "</table>\n",
       "</div>"
      ],
      "text/plain": [
       "                age          taux  nbEnfantsAcharge\n",
       "count  99989.000000  99989.000000      99989.000000\n",
       "mean      43.781738    702.089663          1.243727\n",
       "std       18.276850    256.203435          1.387031\n",
       "min       18.000000    544.000000          0.000000\n",
       "25%       28.000000    544.000000          0.000000\n",
       "50%       42.000000    544.000000          1.000000\n",
       "75%       57.000000    826.000000          2.000000\n",
       "max       84.000000   1399.000000          4.000000"
      ]
     },
     "execution_count": 127,
     "metadata": {},
     "output_type": "execute_result"
    }
   ],
   "source": [
    " client_drop_duplicates.describe()"
   ]
  },
  {
   "cell_type": "code",
   "execution_count": 128,
   "id": "4afa9b97",
   "metadata": {},
   "outputs": [
    {
     "data": {
      "text/plain": [
       "(99989, 7)"
      ]
     },
     "execution_count": 128,
     "metadata": {},
     "output_type": "execute_result"
    }
   ],
   "source": [
    "client_drop_duplicates.shape"
   ]
  },
  {
   "cell_type": "markdown",
   "id": "ca1558b9",
   "metadata": {},
   "source": [
    "## Merge Clients with Immatriculations clustered"
   ]
  },
  {
   "cell_type": "code",
   "execution_count": 129,
   "id": "0b8d7f00",
   "metadata": {},
   "outputs": [],
   "source": [
    "client_merged_df = pd.merge(client_drop_duplicates, immatriculation_merged_df, on=['immatriculation'], how='left')"
   ]
  },
  {
   "cell_type": "code",
   "execution_count": 130,
   "id": "ba4be072",
   "metadata": {},
   "outputs": [
    {
     "data": {
      "text/html": [
       "<div>\n",
       "<style scoped>\n",
       "    .dataframe tbody tr th:only-of-type {\n",
       "        vertical-align: middle;\n",
       "    }\n",
       "\n",
       "    .dataframe tbody tr th {\n",
       "        vertical-align: top;\n",
       "    }\n",
       "\n",
       "    .dataframe thead th {\n",
       "        text-align: right;\n",
       "    }\n",
       "</style>\n",
       "<table border=\"1\" class=\"dataframe\">\n",
       "  <thead>\n",
       "    <tr style=\"text-align: right;\">\n",
       "      <th></th>\n",
       "      <th>age</th>\n",
       "      <th>sexe</th>\n",
       "      <th>taux</th>\n",
       "      <th>situationFamiliale</th>\n",
       "      <th>nbEnfantsAcharge</th>\n",
       "      <th>2eme voiture</th>\n",
       "      <th>immatriculation</th>\n",
       "      <th>marque</th>\n",
       "      <th>nom</th>\n",
       "      <th>puissance</th>\n",
       "      <th>longueur</th>\n",
       "      <th>nbPlaces</th>\n",
       "      <th>nbPortes</th>\n",
       "      <th>couleur</th>\n",
       "      <th>occasion</th>\n",
       "      <th>prix</th>\n",
       "      <th>cluster</th>\n",
       "    </tr>\n",
       "  </thead>\n",
       "  <tbody>\n",
       "    <tr>\n",
       "      <th>0</th>\n",
       "      <td>25.0</td>\n",
       "      <td>F</td>\n",
       "      <td>544.0</td>\n",
       "      <td>En Couple</td>\n",
       "      <td>2.0</td>\n",
       "      <td>false</td>\n",
       "      <td>3467 SB 72</td>\n",
       "      <td>Seat</td>\n",
       "      <td>Toledo 1.6</td>\n",
       "      <td>102</td>\n",
       "      <td>longue</td>\n",
       "      <td>5</td>\n",
       "      <td>5</td>\n",
       "      <td>bleu</td>\n",
       "      <td>False</td>\n",
       "      <td>18880</td>\n",
       "      <td>Luxury car</td>\n",
       "    </tr>\n",
       "    <tr>\n",
       "      <th>1</th>\n",
       "      <td>53.0</td>\n",
       "      <td>M</td>\n",
       "      <td>594.0</td>\n",
       "      <td>En Couple</td>\n",
       "      <td>2.0</td>\n",
       "      <td>false</td>\n",
       "      <td>113 LY 42</td>\n",
       "      <td>Renault</td>\n",
       "      <td>Vel Satis 3.5 V6</td>\n",
       "      <td>245</td>\n",
       "      <td>très longue</td>\n",
       "      <td>5</td>\n",
       "      <td>5</td>\n",
       "      <td>noir</td>\n",
       "      <td>False</td>\n",
       "      <td>49200</td>\n",
       "      <td>Sport car</td>\n",
       "    </tr>\n",
       "    <tr>\n",
       "      <th>2</th>\n",
       "      <td>20.0</td>\n",
       "      <td>F</td>\n",
       "      <td>949.0</td>\n",
       "      <td>En Couple</td>\n",
       "      <td>1.0</td>\n",
       "      <td>false</td>\n",
       "      <td>925 WK 87</td>\n",
       "      <td>Jaguar</td>\n",
       "      <td>X-Type 2.5 V6</td>\n",
       "      <td>197</td>\n",
       "      <td>longue</td>\n",
       "      <td>5</td>\n",
       "      <td>5</td>\n",
       "      <td>blanc</td>\n",
       "      <td>False</td>\n",
       "      <td>37100</td>\n",
       "      <td>Luxury car</td>\n",
       "    </tr>\n",
       "    <tr>\n",
       "      <th>3</th>\n",
       "      <td>29.0</td>\n",
       "      <td>M</td>\n",
       "      <td>571.0</td>\n",
       "      <td>En Couple</td>\n",
       "      <td>2.0</td>\n",
       "      <td>false</td>\n",
       "      <td>3279 RV 81</td>\n",
       "      <td>Renault</td>\n",
       "      <td>Laguna 2.0T</td>\n",
       "      <td>170</td>\n",
       "      <td>longue</td>\n",
       "      <td>5</td>\n",
       "      <td>5</td>\n",
       "      <td>gris</td>\n",
       "      <td>False</td>\n",
       "      <td>27300</td>\n",
       "      <td>Luxury car</td>\n",
       "    </tr>\n",
       "    <tr>\n",
       "      <th>4</th>\n",
       "      <td>47.0</td>\n",
       "      <td>M</td>\n",
       "      <td>544.0</td>\n",
       "      <td>En Couple</td>\n",
       "      <td>1.0</td>\n",
       "      <td>false</td>\n",
       "      <td>82 RZ 54</td>\n",
       "      <td>Fiat</td>\n",
       "      <td>Croma 2.2</td>\n",
       "      <td>147</td>\n",
       "      <td>longue</td>\n",
       "      <td>5</td>\n",
       "      <td>5</td>\n",
       "      <td>bleu</td>\n",
       "      <td>False</td>\n",
       "      <td>24780</td>\n",
       "      <td>Luxury car</td>\n",
       "    </tr>\n",
       "  </tbody>\n",
       "</table>\n",
       "</div>"
      ],
      "text/plain": [
       "    age sexe   taux situationFamiliale  nbEnfantsAcharge 2eme voiture  \\\n",
       "0  25.0    F  544.0          En Couple               2.0        false   \n",
       "1  53.0    M  594.0          En Couple               2.0        false   \n",
       "2  20.0    F  949.0          En Couple               1.0        false   \n",
       "3  29.0    M  571.0          En Couple               2.0        false   \n",
       "4  47.0    M  544.0          En Couple               1.0        false   \n",
       "\n",
       "  immatriculation   marque               nom  puissance     longueur  \\\n",
       "0      3467 SB 72     Seat        Toledo 1.6        102       longue   \n",
       "1       113 LY 42  Renault  Vel Satis 3.5 V6        245  très longue   \n",
       "2       925 WK 87   Jaguar     X-Type 2.5 V6        197       longue   \n",
       "3      3279 RV 81  Renault       Laguna 2.0T        170       longue   \n",
       "4        82 RZ 54     Fiat         Croma 2.2        147       longue   \n",
       "\n",
       "   nbPlaces  nbPortes couleur  occasion   prix     cluster  \n",
       "0         5         5    bleu     False  18880  Luxury car  \n",
       "1         5         5    noir     False  49200   Sport car  \n",
       "2         5         5   blanc     False  37100  Luxury car  \n",
       "3         5         5    gris     False  27300  Luxury car  \n",
       "4         5         5    bleu     False  24780  Luxury car  "
      ]
     },
     "execution_count": 130,
     "metadata": {},
     "output_type": "execute_result"
    }
   ],
   "source": [
    "client_merged_df.head()"
   ]
  },
  {
   "cell_type": "code",
   "execution_count": 131,
   "id": "295fa593",
   "metadata": {},
   "outputs": [],
   "source": [
    "client_merged_dropped = client_merged_df.drop(['immatriculation', 'marque', 'nom', 'puissance', 'longueur', 'nbPlaces', 'nbPortes', 'couleur', 'occasion', 'prix'], axis=1)"
   ]
  },
  {
   "cell_type": "code",
   "execution_count": 132,
   "id": "ec4a478c",
   "metadata": {},
   "outputs": [
    {
     "data": {
      "text/html": [
       "<div>\n",
       "<style scoped>\n",
       "    .dataframe tbody tr th:only-of-type {\n",
       "        vertical-align: middle;\n",
       "    }\n",
       "\n",
       "    .dataframe tbody tr th {\n",
       "        vertical-align: top;\n",
       "    }\n",
       "\n",
       "    .dataframe thead th {\n",
       "        text-align: right;\n",
       "    }\n",
       "</style>\n",
       "<table border=\"1\" class=\"dataframe\">\n",
       "  <thead>\n",
       "    <tr style=\"text-align: right;\">\n",
       "      <th></th>\n",
       "      <th>age</th>\n",
       "      <th>sexe</th>\n",
       "      <th>taux</th>\n",
       "      <th>situationFamiliale</th>\n",
       "      <th>nbEnfantsAcharge</th>\n",
       "      <th>2eme voiture</th>\n",
       "      <th>cluster</th>\n",
       "    </tr>\n",
       "  </thead>\n",
       "  <tbody>\n",
       "    <tr>\n",
       "      <th>0</th>\n",
       "      <td>25.0</td>\n",
       "      <td>F</td>\n",
       "      <td>544.0</td>\n",
       "      <td>En Couple</td>\n",
       "      <td>2.0</td>\n",
       "      <td>false</td>\n",
       "      <td>Luxury car</td>\n",
       "    </tr>\n",
       "    <tr>\n",
       "      <th>1</th>\n",
       "      <td>53.0</td>\n",
       "      <td>M</td>\n",
       "      <td>594.0</td>\n",
       "      <td>En Couple</td>\n",
       "      <td>2.0</td>\n",
       "      <td>false</td>\n",
       "      <td>Sport car</td>\n",
       "    </tr>\n",
       "    <tr>\n",
       "      <th>2</th>\n",
       "      <td>20.0</td>\n",
       "      <td>F</td>\n",
       "      <td>949.0</td>\n",
       "      <td>En Couple</td>\n",
       "      <td>1.0</td>\n",
       "      <td>false</td>\n",
       "      <td>Luxury car</td>\n",
       "    </tr>\n",
       "    <tr>\n",
       "      <th>3</th>\n",
       "      <td>29.0</td>\n",
       "      <td>M</td>\n",
       "      <td>571.0</td>\n",
       "      <td>En Couple</td>\n",
       "      <td>2.0</td>\n",
       "      <td>false</td>\n",
       "      <td>Luxury car</td>\n",
       "    </tr>\n",
       "    <tr>\n",
       "      <th>4</th>\n",
       "      <td>47.0</td>\n",
       "      <td>M</td>\n",
       "      <td>544.0</td>\n",
       "      <td>En Couple</td>\n",
       "      <td>1.0</td>\n",
       "      <td>false</td>\n",
       "      <td>Luxury car</td>\n",
       "    </tr>\n",
       "  </tbody>\n",
       "</table>\n",
       "</div>"
      ],
      "text/plain": [
       "    age sexe   taux situationFamiliale  nbEnfantsAcharge 2eme voiture  \\\n",
       "0  25.0    F  544.0          En Couple               2.0        false   \n",
       "1  53.0    M  594.0          En Couple               2.0        false   \n",
       "2  20.0    F  949.0          En Couple               1.0        false   \n",
       "3  29.0    M  571.0          En Couple               2.0        false   \n",
       "4  47.0    M  544.0          En Couple               1.0        false   \n",
       "\n",
       "      cluster  \n",
       "0  Luxury car  \n",
       "1   Sport car  \n",
       "2  Luxury car  \n",
       "3  Luxury car  \n",
       "4  Luxury car  "
      ]
     },
     "execution_count": 132,
     "metadata": {},
     "output_type": "execute_result"
    }
   ],
   "source": [
    "client_merged_dropped.head()"
   ]
  },
  {
   "cell_type": "code",
   "execution_count": 133,
   "id": "f150fe58",
   "metadata": {},
   "outputs": [],
   "source": [
    "client_merged_drop_duplicates = client_merged_dropped.drop_duplicates(subset=['age', 'sexe', 'taux', 'situationFamiliale', 'nbEnfantsAcharge', '2eme voiture', 'cluster'])"
   ]
  },
  {
   "cell_type": "code",
   "execution_count": 134,
   "id": "3581a332",
   "metadata": {},
   "outputs": [
    {
     "data": {
      "text/plain": [
       "(45436, 7)"
      ]
     },
     "execution_count": 134,
     "metadata": {},
     "output_type": "execute_result"
    }
   ],
   "source": [
    "client_merged_drop_duplicates.shape"
   ]
  },
  {
   "cell_type": "markdown",
   "id": "3a7791f6",
   "metadata": {},
   "source": [
    " # Model\n"
   ]
  },
  {
   "cell_type": "markdown",
   "id": "2c6b0b21",
   "metadata": {},
   "source": [
    "## Vectorization"
   ]
  },
  {
   "cell_type": "code",
   "execution_count": 136,
   "id": "8f6bcf63",
   "metadata": {},
   "outputs": [],
   "source": [
    "from sklearn.preprocessing import LabelEncoder"
   ]
  },
  {
   "cell_type": "code",
   "execution_count": 137,
   "id": "62d73ad7",
   "metadata": {},
   "outputs": [],
   "source": [
    "# Encode categorical columns\n",
    "label_encoder = LabelEncoder()\n",
    "client_merged_drop_duplicates['sexe'] = label_encoder.fit_transform(client_merged_drop_duplicates['sexe'])\n",
    "client_merged_drop_duplicates['situationFamiliale'] = label_encoder.fit_transform(client_merged_drop_duplicates['situationFamiliale'])\n",
    "client_merged_drop_duplicates['2eme voiture'] = label_encoder.fit_transform(client_merged_drop_duplicates['2eme voiture'])"
   ]
  },
  {
   "cell_type": "markdown",
   "id": "b5dc2a41",
   "metadata": {},
   "source": [
    "## Training"
   ]
  },
  {
   "cell_type": "code",
   "execution_count": 141,
   "id": "377aabef",
   "metadata": {},
   "outputs": [],
   "source": [
    "from sklearn.model_selection import train_test_split\n",
    "from sklearn.ensemble import RandomForestClassifier\n",
    "from sklearn.metrics import accuracy_score, classification_report"
   ]
  },
  {
   "cell_type": "code",
   "execution_count": 142,
   "id": "df1f0602",
   "metadata": {},
   "outputs": [],
   "source": [
    "X = client_merged_drop_duplicates.drop('cluster', axis=1)\n",
    "y = client_merged_drop_duplicates['cluster']"
   ]
  },
  {
   "cell_type": "code",
   "execution_count": 143,
   "id": "0bd4bc78",
   "metadata": {},
   "outputs": [
    {
     "name": "stdout",
     "output_type": "stream",
     "text": [
      "Accuracy: 0.7299735915492958\n",
      "Classification Report:\n",
      "               precision    recall  f1-score   support\n",
      "\n",
      "  Luxury car       0.77      0.81      0.79      5565\n",
      "   Sport car       0.72      0.66      0.69      3182\n",
      "   Urban car       0.14      0.12      0.13       341\n",
      "\n",
      "    accuracy                           0.73      9088\n",
      "   macro avg       0.54      0.53      0.54      9088\n",
      "weighted avg       0.73      0.73      0.73      9088\n",
      "\n"
     ]
    }
   ],
   "source": [
    "\n",
    "# Split the data into training and testing sets\n",
    "X_train, X_test, y_train, y_test = train_test_split(X, y, test_size=0.2, random_state=42)\n",
    "\n",
    "# Choose a machine learning model (Random Forest Classifier in this example)\n",
    "model = RandomForestClassifier()\n",
    "\n",
    "# Train the model\n",
    "model.fit(X_train, y_train)\n",
    "\n",
    "# Make predictions\n",
    "y_pred = model.predict(X_test)\n",
    "\n",
    "# Evaluate the model\n",
    "accuracy = accuracy_score(y_test, y_pred)\n",
    "classification_report_result = classification_report(y_test, y_pred)\n",
    "\n",
    "print(f'Accuracy: {accuracy}')\n",
    "print('Classification Report:\\n', classification_report_result)"
   ]
  },
  {
   "cell_type": "code",
   "execution_count": 145,
   "id": "f302922f",
   "metadata": {},
   "outputs": [],
   "source": [
    "from sklearn.svm import SVC"
   ]
  },
  {
   "cell_type": "code",
   "execution_count": 146,
   "id": "19a0d536",
   "metadata": {},
   "outputs": [
    {
     "name": "stdout",
     "output_type": "stream",
     "text": [
      "SVM Accuracy: 0.6123459507042254\n",
      "SVM Classification Report:\n",
      "               precision    recall  f1-score   support\n",
      "\n",
      "  Luxury car       0.61      1.00      0.76      5565\n",
      "   Sport car       0.00      0.00      0.00      3182\n",
      "   Urban car       0.00      0.00      0.00       341\n",
      "\n",
      "    accuracy                           0.61      9088\n",
      "   macro avg       0.20      0.33      0.25      9088\n",
      "weighted avg       0.37      0.61      0.47      9088\n",
      "\n"
     ]
    }
   ],
   "source": [
    "svm_model = SVC()\n",
    "\n",
    "# Train the model\n",
    "svm_model.fit(X_train, y_train)\n",
    "\n",
    "# Make predictions\n",
    "y_pred_svm = svm_model.predict(X_test)\n",
    "\n",
    "# Evaluate the model\n",
    "accuracy_svm = accuracy_score(y_test, y_pred_svm)\n",
    "classification_report_svm = classification_report(y_test, y_pred_svm)\n",
    "\n",
    "print(f'SVM Accuracy: {accuracy_svm}')\n",
    "print('SVM Classification Report:\\n', classification_report_svm)"
   ]
  },
  {
   "cell_type": "markdown",
   "id": "d182089c",
   "metadata": {},
   "source": [
    "## Export the model"
   ]
  },
  {
   "cell_type": "code",
   "execution_count": 151,
   "id": "63fcbb2d",
   "metadata": {},
   "outputs": [
    {
     "data": {
      "text/plain": [
       "['random_forest_model.pkl']"
      ]
     },
     "execution_count": 151,
     "metadata": {},
     "output_type": "execute_result"
    }
   ],
   "source": [
    "import joblib\n",
    "\n",
    "# Assuming you have trained a Random Forest model named 'model'\n",
    "model = RandomForestClassifier()\n",
    "model.fit(X_train, y_train)\n",
    "\n",
    "# Save the model to a file\n",
    "joblib.dump(model, 'random_forest_model.pkl')"
   ]
  },
  {
   "cell_type": "code",
   "execution_count": null,
   "id": "7ed75cbf",
   "metadata": {},
   "outputs": [],
   "source": []
  }
 ],
 "metadata": {
  "kernelspec": {
   "display_name": "Python 3 (ipykernel)",
   "language": "python",
   "name": "python3"
  },
  "language_info": {
   "codemirror_mode": {
    "name": "ipython",
    "version": 3
   },
   "file_extension": ".py",
   "mimetype": "text/x-python",
   "name": "python",
   "nbconvert_exporter": "python",
   "pygments_lexer": "ipython3",
   "version": "3.10.13"
  }
 },
 "nbformat": 4,
 "nbformat_minor": 5
}
